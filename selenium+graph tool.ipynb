{
 "cells": [
  {
   "cell_type": "code",
   "execution_count": null,
   "metadata": {
    "collapsed": false
   },
   "outputs": [],
   "source": [
    "from selenium import webdriver\n",
    "from selenium.common.exceptions import NoSuchElementException\n",
    "from selenium.webdriver.common.keys import Keys\n",
    "import os\n",
    "from selenium.webdriver.common.action_chains import ActionChains\n",
    "import time\n",
    "import re\n",
    "import getpass\n",
    "import json\n",
    "from graph_tool.all import *\n",
    "\n",
    "def login():\n",
    "\tusername = raw_input('username: ')\n",
    "\tpassword = getpass.getpass()\n",
    "\tchromeDriver = '/Users/Jai/Downloads/chromedriver'\n",
    "\tchrome_options = webdriver.ChromeOptions()\n",
    "\tprefs = {\"profile.managed_default_content_settings.notifications\": 2}\n",
    "\tchrome_options.add_experimental_option(\"prefs\", prefs)\n",
    "\n",
    "\tos.environ[\"webdriver.chrome.driver\"] = chromeDriver\n",
    "\tdriver = webdriver.Chrome(chromeDriver, chrome_options=chrome_options)\n",
    "\n",
    "\tdriver.get(\"https://web.facebook.com/\")\n",
    "\tassert 'Facebook' in driver.title\n",
    "\temail_field = driver.find_element_by_id(\"email\")\n",
    "\tpass_field = driver.find_element_by_id(\"pass\")\n",
    "\n",
    "\temail_field.send_keys(username)\n",
    "\tpass_field.send_keys(password)\n",
    "\tpass_field.send_keys(Keys.RETURN)\n",
    "\treturn driver\n",
    "\n",
    "def getLikesFromPosts(target, driver):\n",
    "\t# open the persons profile\n",
    "\tpageURL = str()\n",
    "\tif re.match(r'https?\\:\\/\\/www\\.facebook\\.com\\/[^?]*\\?',target):\n",
    "\t\tpageURL = target\n",
    "\telse:\n",
    "\t\tpageURL = \"https://web.facebook.com/\" + target\n",
    "\tdriver.get(pageURL)\n",
    "\t# TODO: replace with code that ensures we are at the bottom of the page\n",
    "\tfor i in range(2):\n",
    "\t\tfor i in range(2):\n",
    "\t\t\tActionChains(driver).key_down(Keys.DOWN).perform()\n",
    "\t\ttime.sleep(0.1)\n",
    "\tcoverPhotoObj = driver.find_element_by_xpath('//*[@id=\"fbCoverImageContainer\"]')\n",
    "\tcoverPhotoObj.click()\n",
    "\ttime.sleep(5)\n",
    "\tfriends = set()\n",
    "\treactionPageURLs = set()\n",
    "\tCoverObjectReactionElements = set()\n",
    "\tallCoverLinks = driver.find_elements_by_tag_name('a')\n",
    "\tfor x in allCoverLinks:\n",
    "\t\tif '/ufi/reaction/profile/browser/' in str(x.get_attribute('href')):\n",
    "\t\t\tCoverObjectReactionElements.add(x.get_attribute('href'))\n",
    "\treactionPageURLs = reactionPageURLs.union(CoverObjectReactionElements)\n",
    "\n",
    "\tcloseButtonObj = driver.find_element_by_xpath('//*[@id=\"photos_snowlift\"]/div[2]/div/a')\n",
    "\tcloseButtonObj.click()\n",
    "\ttime.sleep(1)\n",
    "\tDPObj = driver.find_element_by_class_name('profilePic')\n",
    "\tDPObj.click()\n",
    "\ttime.sleep(5)\n",
    "\tDPReactionElements = set()\n",
    "\tallDPLinks = driver.find_elements_by_tag_name('a')\n",
    "\tfor x in allDPLinks:\n",
    "\t\tif '/ufi/reaction/profile/browser/' in str(x.get_attribute('href')):\n",
    "\t\t\tDPReactionElements.add(x.get_attribute('href'))\n",
    "\treactionPageURLs = reactionPageURLs.union(DPReactionElements)\n",
    "\n",
    "\t# print \"links found:\"\n",
    "\t# for URL in reactionPageURLs:\n",
    "\t# \tprint URL\n",
    "\tfor element in reactionPageURLs:\n",
    "\t\tlink = element\n",
    "\t\tprint \"exploring \" + str(link)\n",
    "\t\tfriendsFoundFromLink = getLikesFromReactionPage(link, driver)\n",
    "\t\tfriends = friends.union(friendsFoundFromLink)\n",
    "\treturn friends\n",
    "\n",
    "\n",
    "def getLikesFromReactionPage(likelistURL, driver):\n",
    "\tdriver.get(likelistURL)\n",
    "\tmore = True\n",
    "\twhile more:\n",
    "\t\ttry:\n",
    "\t\t\ttime.sleep(5)\n",
    "\t\t\tseemorebutton = driver.find_element_by_xpath('//*[@id=\"reaction_profile_pager1\"]/div')\n",
    "\t\t\tseemorebutton.click()\n",
    "\t\texcept NoSuchElementException:\n",
    "\t\t\tmore = False\n",
    "\tfriendlinks = driver.find_elements_by_xpath(\n",
    "\t\t'//*[@id=\"reaction_profile_browser1\"]/li/div/div/div/div[2]/div[2]/div/a')\n",
    "\tresult = set()\n",
    "\tfor linkelement in friendlinks:\n",
    "\t\t# result.add(linkelement.get_attribute(\"href\"))\n",
    "\t\tlink = linkelement.get_attribute(\"href\")\n",
    "\t\tname = linkelement.text\n",
    "\t\tidsearch = re.search(r'(https?\\:\\/\\/(www\\.)?(web\\.)?facebook\\.com\\/)([^?]*)\\?',name)\n",
    "\t\tif idsearch:\n",
    "\t\t\tprint \"adding \" + idsearch.group(4)\n",
    "\t\t\tresult.add((idsearch.group(4),name))\n",
    "\treturn result\n",
    "\n",
    "def genFriendGraph(root, friendList):\n",
    "\t'''\n",
    "\tTo generate the graph for a given root node and his/her friend list\n",
    "\t:param root: the root node (as an fb-id)\n",
    "\t:param friendList: a list of tuples of (link,name)\n",
    "\t:return: the graph object\n",
    "\t'''\n",
    "\tg = Graph()\n",
    "\troot = g.add_vertex()\n",
    "\tg.gp.idtovert = g.new_gp(\"python::object\")\n",
    "\tg.gp.idtovert = dict()\n",
    "\tg.vp.vertexText = g.new_vp(\"string\")\n",
    "\tg.vp.id = g.new_vp(\"string\")\n",
    "\tfor friend in friendList:\n",
    "\t\tfriendVertex = g.add_vertex()\n",
    "\t\tg.gp.idtovert[friend[0]] = g.vertex_index[friendVertex]\n",
    "\t\tg.vp.vertexText[friendVertex] = friend[1]\n",
    "\t\tprint \"making node with id \" + friend[0]\n",
    "\t\tg.vp.id[friendVertex] = friend[0]\n",
    "\t\tg.add_edge(root,friendVertex)\n",
    "\treturn g\n",
    "\n",
    "\n",
    "def addNewFriends(g,target, friends,isfriend=True):\n",
    "\t'''\n",
    "\t:param g: the graph Im working with right now\n",
    "\t:param target: the person who I've clicked on - who's friends I'm adding to the graph\n",
    "\t:param friends: A list of (link,name) tuples of the friends of the person in consideration\n",
    "\t:return: the modified graph\n",
    "\t'''\n",
    "\tif not isinstance(g, Graph ):\n",
    "\t\treturn False\n",
    "\tif isfriend:\n",
    "\t\ttargetVertex = g.gp.idtovert[target]\n",
    "\telse:\n",
    "\t\ttargetVertex = g.add_vertex()\n",
    "\tfor friend in friends:\n",
    "\t\tif friend[0] not in g.gp.idtovert:\n",
    "\t\t\tfriendVertex = g.add_vertex()\n",
    "\t\telse:\n",
    "\t\t\tfriendVertex = g.vertex(g.gp.idtovert[friend[0]])\n",
    "\t\tg.gp.idtovert[friend[0]] = g.vertex_index[friendVertex]\n",
    "\t\tg.vp.id[friendVertex] = friend[0]\n",
    "\t\tg.vp.vertexText[friendVertex] = friend[1]\n",
    "\t\tprint \"adding edge to \" + friend[1]\n",
    "\t\tg.add_edge(targetVertex,friendVertex)\n",
    "\treturn g"
   ]
  },
  {
   "cell_type": "code",
   "execution_count": null,
   "metadata": {
    "collapsed": false
   },
   "outputs": [],
   "source": [
    "username = raw_input('username: ')\n",
    "password = getpass.getpass()\n",
    "driver = login(username, password)\n",
    "partial_likes = getLikesFromPosts(\"sahilarora946\", driver)\n",
    "socialGraph = genFriendGraph(\"sahilarora946\",partial_likes)\n",
    "pos = radial_tree_layout(socialGraph,socialGraph.vertex(0))"
   ]
  },
  {
   "cell_type": "code",
   "execution_count": null,
   "metadata": {
    "collapsed": false
   },
   "outputs": [],
   "source": [
    "#pos = radial_tree_layout(socialGraph,socialGraph.vertex(0))\n",
    "#graph_draw(socialGraph, pos = pos, vertex_text = socialGraph.vp.vertexText, vertex_size = 10, vertex_font_size = 10)\n",
    "#values = socialGraph.list_properties()"
   ]
  },
  {
   "cell_type": "code",
   "execution_count": null,
   "metadata": {
    "collapsed": false
   },
   "outputs": [],
   "source": [
    "(newpos, selected ) = interactive_window(socialGraph, pos = pos, vertex_text = socialGraph.vp.vertexText, vertex_size = 10, vertex_font_size = 10)\n",
    "changedvert = socialGraph.vp.id[socialGraph.vertex(0)]\n",
    "for i in socialGraph.vertices():\n",
    "    if selected[i]:\n",
    "        changedvert=socialGraph.vp.id[i]\n",
    "print \"now exploring \"+ changedvert\n",
    "#get new friends, add to graph, and redraw the graph surface\n",
    "newLikes = getLikesFromPosts(changedvert,driver)"
   ]
  },
  {
   "cell_type": "code",
   "execution_count": null,
   "metadata": {
    "collapsed": false
   },
   "outputs": [],
   "source": [
    "newids = set()\n",
    "for like in newLikes:\n",
    "    idsearch = re.search(r'(https?\\:\\/\\/www\\.facebook\\.com\\/)([^?]*)\\?',str(like[0]))\n",
    "    print \"exploring \" + like[1]\n",
    "    if idsearch:\n",
    "        newids.add( idsearch.group(2))\n",
    "        print idsearch.group(2)\n"
   ]
  },
  {
   "cell_type": "code",
   "execution_count": null,
   "metadata": {
    "collapsed": false
   },
   "outputs": [],
   "source": [
    "socialGraph = addNewFriends(socialGraph,changedvert,newids)\n",
    "pos = radial_tree_layout(socialGraph,socialGraph.vertex(0))\n",
    "graph_draw(socialGraph, pos = pos, vertex_text = socialGraph.vp.vertexText, vertex_size = 10, vertex_font_size = 10)"
   ]
  },
  {
   "cell_type": "code",
   "execution_count": null,
   "metadata": {
    "collapsed": false
   },
   "outputs": [],
   "source": [
    "def openInteractiveWindow(g,driver):\n",
    "    if not isinstance(g, Graph):\n",
    "        return False\n",
    "    graph_draw(g, vertex_text = socialGraph.vp.vertexText, vertex_size = 10, vertex_font_size = 10, inline=True)\n",
    "    #get the id of the guy to explore now\n",
    "    print \" Input as follows \\n 1 for importing a new person into the graph \\n 2 for exploring an existing person in the graph \\n 3 for exit\"\n",
    "    choice = input()\n",
    "    if choice == 1:\n",
    "        newid = raw_input(\"enter the ID of the person to explore\")\n",
    "        g = addNewFriends(g,newid, getLikesFromPosts(newid,driver),isfriend=False)\n",
    "        openInteractiveWindow(g,driver)\n",
    "    elif choice ==2:\n",
    "        explorename = raw_input(\"enter the name of the person you want to explore\")\n",
    "        exploreids = [g.vp.id[x] for x in g.vertices() if g.vp.vertexText[x] == explorename]\n",
    "        print \"choose from one of the following:\"\n",
    "        print exploreids\n",
    "        exploreid = raw_input()\n",
    "        g = addNewFriends(g,exploreid,getLikesFromPosts(exploreid, driver))\n",
    "        openInteractiveWindow(g,driver)\n",
    "    else:\n",
    "        return True\n",
    "    '''\n",
    "    (newpos, selected ) = interactive_window(g, vertex_text = socialGraph.vp.vertexText, vertex_size = 10, vertex_font_size = 10)\n",
    "    changedvert = g.vp.id[g.vertex(0)]\n",
    "    for i in g.vertices():\n",
    "        if selected[i]:\n",
    "            changedvert=g.vp.id[i]\n",
    "    print \"now exploring \"+ changedvert\n",
    "    #get new friends, add to graph, and redraw the graph surface\n",
    "    newLikes = getLikesFromPosts(changedvert,driver)\n",
    "    newids = set()\n",
    "    for like in newLikes:\n",
    "        idsearch = re.search(r'(https?\\:\\/\\/www\\.facebook\\.com\\/)([^?]*)\\?',str(like[0]))\n",
    "        if idsearch:\n",
    "            newids.add( (idsearch.group(2),like[1]))\n",
    "    g = addNewFriends(g,changedvert,newids)\n",
    "    openInteractiveWindow(g)\n",
    "    '''\n",
    "    \n",
    "def genGraphMultiUsers(idlist,driver):\n",
    "    g = Graph()\n",
    "    firstlikes = getLikesFromPosts(idlist[0],driver)\n",
    "    firstids = set()\n",
    "    for like in firstlikes:\n",
    "        idsearch = re.search(r'(https?\\:\\/\\/www\\.facebook\\.com\\/)([^?]*)\\?',str(like[0]))\n",
    "        if idsearch:\n",
    "            firstids.add((idsearch.group(2),like[1]))\n",
    "    g = genFriendGraph(idlist[0],firstids)\n",
    "    for user in idlist:\n",
    "        if user == idlist[0]:\n",
    "            continue\n",
    "        newLikes = getLikesFromPosts(user,driver)\n",
    "        newids = set()\n",
    "        for like in newLikes:\n",
    "            idsearch = re.search(r'(https?\\:\\/\\/(www\\.)?(web\\.)?facebook\\.com\\/)([^?]*)\\?\\?',str(like[0]))\n",
    "            if idsearch:\n",
    "                newids.add( (idsearch.group(4),like[1]))\n",
    "        g = addNewFriends(g,user,newids,isfriend=False)\n",
    "    return g"
   ]
  },
  {
   "cell_type": "code",
   "execution_count": null,
   "metadata": {
    "collapsed": false
   },
   "outputs": [],
   "source": [
    "#driver = login()\n",
    "socialGraph = genGraphMultiUsers([\"happy.sachdeva\",\"sahilarora946\"],driver)"
   ]
  },
  {
   "cell_type": "code",
   "execution_count": null,
   "metadata": {
    "collapsed": false
   },
   "outputs": [],
   "source": [
    "#driver = login()\n",
    "socialGraph = genFriendGraph('sahilarora946',getLikesFromPosts('sahilarora946',driver))"
   ]
  },
  {
   "cell_type": "code",
   "execution_count": null,
   "metadata": {
    "collapsed": false
   },
   "outputs": [],
   "source": [
    "print socialGraph.num_vertices()"
   ]
  },
  {
   "cell_type": "code",
   "execution_count": null,
   "metadata": {
    "collapsed": false
   },
   "outputs": [],
   "source": [
    "#driver = login()\n",
    "openInteractiveWindow(socialGraph,driver)\n",
    "#graph_draw(socialGraph, inline =True)"
   ]
  },
  {
   "cell_type": "code",
   "execution_count": null,
   "metadata": {
    "collapsed": false
   },
   "outputs": [],
   "source": [
    "from graph_tool.all import *\n",
    "socialGraph= Graph()\n",
    "socialGraph.load('/Users/Jai/Documents/work/shipsy/bitbucket/WVRN Algo/socialGraph.xml')"
   ]
  },
  {
   "cell_type": "code",
   "execution_count": null,
   "metadata": {
    "collapsed": true
   },
   "outputs": [],
   "source": [
    "socialGraph.clear_filters()\n",
    "filt= socialGraph.new_vp(\"bool\")\n",
    "#socialGraph.clear_vertex(socialGraph.vertex(0))\n",
    "socialGraph.clear_vertex(socialGraph.vertex(913))\n",
    "socialGraph.set_vertex_filter(filt,inverted=True)"
   ]
  },
  {
   "cell_type": "code",
   "execution_count": null,
   "metadata": {
    "collapsed": false
   },
   "outputs": [],
   "source": [
    "for v in socialGraph.vertices():\n",
    "    if v.out_degree()+v.in_degree()<5:\n",
    "        filt[v]=True\n",
    "socialGraph.set_vertex_filter(filt,inverted=True)"
   ]
  },
  {
   "cell_type": "code",
   "execution_count": null,
   "metadata": {
    "collapsed": false
   },
   "outputs": [],
   "source": [
    "positions,moved = graph_draw(socialGraph)"
   ]
  },
  {
   "cell_type": "code",
   "execution_count": null,
   "metadata": {
    "collapsed": false
   },
   "outputs": [],
   "source": [
    "spatial_map = list()\n",
    "for v in socialGraph.vertices():\n",
    "    spatial_map.append(tuple(positions[v]))"
   ]
  },
  {
   "cell_type": "code",
   "execution_count": null,
   "metadata": {
    "collapsed": false
   },
   "outputs": [],
   "source": [
    "for i in range(len())"
   ]
  },
  {
   "cell_type": "code",
   "execution_count": null,
   "metadata": {
    "collapsed": true
   },
   "outputs": [],
   "source": []
  }
 ],
 "metadata": {
  "kernelspec": {
   "display_name": "Python 2",
   "language": "python",
   "name": "python2"
  },
  "language_info": {
   "codemirror_mode": {
    "name": "ipython",
    "version": 2
   },
   "file_extension": ".py",
   "mimetype": "text/x-python",
   "name": "python",
   "nbconvert_exporter": "python",
   "pygments_lexer": "ipython2",
   "version": "2.7.10"
  }
 },
 "nbformat": 4,
 "nbformat_minor": 0
}
