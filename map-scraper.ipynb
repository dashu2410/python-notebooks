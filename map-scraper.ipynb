{
 "cells": [
  {
   "cell_type": "code",
   "execution_count": 122,
   "metadata": {
    "collapsed": false
   },
   "outputs": [],
   "source": [
    "import selenium\n",
    "from selenium import webdriver\n",
    "from selenium.common.exceptions import NoSuchElementException\n",
    "from selenium.webdriver.common.keys import Keys\n",
    "import browsermobproxy\n",
    "server = Server(\"/Users/Jai/Documents/code/python-learning/browsermob-binary/browsermob-proxy-2.1.2-SNAPSHOT/bin/browsermob-proxy\")\n",
    "server.start()\n",
    "proxy = server.create_proxy()\n",
    "co = webdriver.ChromeOptions()\n",
    "co.add_argument('--proxy-server={host}:{port}'.format(host='localhost', port=proxy.port))\n",
    "driver = webdriver.Chrome(chrome_options=co)\n",
    "proxy.new_har()\n",
    "driver.get('https://maps.mapmyindia.com/')\n",
    "driver.find_element_by_xpath('//*[@id=\"auto\"]').send_keys('gurgaon')\n",
    "searchButton = driver.find_element_by_xpath('//*[@id=\"search_icon_auto\"]/img')\n",
    "searchButton.click()\n",
    "time.sleep(2)\n",
    "gurgaonResult = driver.find_elements_by_xpath('//*[@id=\"res_info\"]/div')[1]\n",
    "gurgaonResult.click()"
   ]
  },
  {
   "cell_type": "code",
   "execution_count": 144,
   "metadata": {
    "collapsed": false,
    "scrolled": true
   },
   "outputs": [
    {
     "data": {
      "text/plain": [
       "{u'cache': {},\n",
       " u'comment': u'',\n",
       " u'pageref': u'Page 0',\n",
       " u'request': {u'bodySize': 0,\n",
       "  u'comment': u'',\n",
       "  u'cookies': [],\n",
       "  u'headers': [],\n",
       "  u'headersSize': 795,\n",
       "  u'httpVersion': u'HTTP/1.1',\n",
       "  u'method': u'GET',\n",
       "  u'queryString': [{u'name': u'28.475481745263327', u'value': u''},\n",
       "   {u'name': u'77.05492973327637', u'value': u''},\n",
       "   {u'name': u'14', u'value': u''}],\n",
       "  u'url': u'https://maps.mapmyindia.com/get_click_revg?28.475481745263327&77.05492973327637&14'},\n",
       " u'response': {u'bodySize': 201,\n",
       "  u'comment': u'',\n",
       "  u'content': {u'comment': u'',\n",
       "   u'mimeType': u'text/html; charset=UTF-8',\n",
       "   u'size': 0},\n",
       "  u'cookies': [],\n",
       "  u'headers': [],\n",
       "  u'headersSize': 353,\n",
       "  u'httpVersion': u'HTTP/1.1',\n",
       "  u'redirectURL': u'',\n",
       "  u'status': 200,\n",
       "  u'statusText': u'OK'},\n",
       " u'serverIPAddress': u'180.179.207.231',\n",
       " u'startedDateTime': u'2016-06-15T18:32:47.992+05:30',\n",
       " u'time': 364,\n",
       " u'timings': {u'blocked': 0,\n",
       "  u'comment': u'',\n",
       "  u'connect': 248,\n",
       "  u'dns': 0,\n",
       "  u'receive': 0,\n",
       "  u'send': 0,\n",
       "  u'ssl': 198,\n",
       "  u'wait': 115}}"
      ]
     },
     "execution_count": 144,
     "metadata": {},
     "output_type": "execute_result"
    }
   ],
   "source": [
    "old = proxy.har\n",
    "old['log']['entries'][-1]#['response']['content']"
   ]
  },
  {
   "cell_type": "code",
   "execution_count": 135,
   "metadata": {
    "collapsed": false
   },
   "outputs": [],
   "source": [
    "new = proxy.har\n",
    "#print new"
   ]
  },
  {
   "cell_type": "code",
   "execution_count": 112,
   "metadata": {
    "collapsed": false
   },
   "outputs": [],
   "source": [
    "thefile.close()"
   ]
  },
  {
   "cell_type": "code",
   "execution_count": 45,
   "metadata": {
    "collapsed": false
   },
   "outputs": [
    {
     "name": "stdout",
     "output_type": "stream",
     "text": [
      "28.4675631, 77.075803\n",
      "28.46675311028013, 77.07676827907562\n",
      "28.466281526540914, 77.0773047208786\n",
      "28.466281526540914, 77.0773047208786\n"
     ]
    }
   ],
   "source": [
    "import re\n",
    "new = proxy.har\n",
    "for elem in new['log']['entries']:\n",
    "    if 'https://maps.mapmyindia.com/get_click_revg?' in elem['request']['url']:\n",
    "        url = elem['request']['url']\n",
    "        res = re.search(\"https:\\/\\/maps\\.mapmyindia.com\\/get_click_revg\\?([0-9]*\\.[0-9]*)\\&([0-9]*\\.[0-9]*)\", url)\n",
    "        if res:\n",
    "            print res.groups()[0] + \", \" + res.groups()[1]\n",
    "#print new['log']['entries'][-1]['request']['url']"
   ]
  },
  {
   "cell_type": "code",
   "execution_count": 102,
   "metadata": {
    "collapsed": false
   },
   "outputs": [
    {
     "name": "stdout",
     "output_type": "stream",
     "text": [
      "generating click on 587.276842911 , 458.226383761\n",
      "generating click on 586.504349236 , 354.165267344\n",
      "generating click on 589.01524511 , 522.472013751\n",
      "generating click on 587.497410845 , 231.269727218\n",
      "((u'28.484534996831663', u'77.02969551086424'), u'19, Block B, Shitla Colony, Gurgaon, Haryana')\n",
      "generating click on 510.176901421 , 787.2941736\n",
      "((u'28.484534996831663', u'77.02969551086424'), u'19, Block B, Shitla Colony, Gurgaon, Haryana')\n",
      "generating click on 574.399243983 , 567.509209193\n",
      "generating click on 532.511279584 , 766.580437122\n",
      "((u'28.444166602490103', u'77.02497482299805'), u'1289, Hans Enclave, Gurgaon, Haryana')\n",
      "generating click on 551.530935745 , 601.226579449\n",
      "generating click on 591.95983354 , 325.077962053\n",
      "((u'28.477443348958296', u'77.03003883361815'), u'696, Amanpura, Gurgaon, Haryana')\n",
      "generating click on 516.759563218 , 864.268146569\n",
      "((u'28.477443348958296', u'77.03003883361815'), u'696, Amanpura, Gurgaon, Haryana')\n",
      "generating click on 539.828074656 , 555.496248494\n",
      "generating click on 572.349769846 , 847.456844055\n",
      "generating click on 524.077216633 , 641.855251156\n",
      "((u'28.453599850714404', u'77.02428817749023'), u'')\n",
      "generating click on 541.112400743 , 248.71491971\n",
      "generating click on 594.527203108 , 805.692507193\n",
      "generating click on 579.384489565 , 445.153464359\n",
      "((u'28.468389489533372', u'77.02900886535645'), u'')\n",
      "generating click on 570.263785168 , 544.727240674\n",
      "generating click on 544.622890862 , 405.807380739\n",
      "((u'28.471407528887873', u'77.02600479125977'), u'')\n",
      "generating click on 590.536823104 , 766.579935367\n",
      "generating click on 570.565128253 , 370.651294445\n",
      "((u'28.47404824260341', u'77.02823638916016'), u'')\n",
      "generating click on 596.152274167 , 298.156643417\n",
      "((u'28.47404824260341', u'77.02823638916016'), u'')\n",
      "generating click on 573.731308321 , 455.307822211\n",
      "generating click on 555.073863732 , 402.518666558\n",
      "((u'28.471633878364173', u'77.02694892883301'), u'')\n",
      "generating click on 507.339788392 , 372.700752551\n",
      "generating click on 582.142321786 , 886.906746511\n",
      "generating click on 590.89124735 , 535.259875513\n",
      "((u'28.461598585807785', u'77.02995300292969'), u'')\n",
      "generating click on 515.327687607 , 421.745924032\n",
      "((u'28.461598585807785', u'77.02995300292969'), u'')\n",
      "generating click on 591.41886727 , 478.008358662\n",
      "((u'28.461598585807785', u'77.02995300292969'), u'')\n",
      "generating click on 542.198190728 , 533.442704453\n",
      "generating click on 596.231747308 , 275.428906457\n",
      "((u'28.481215561365413', u'77.03046798706055'), u'')\n",
      "generating click on 543.317434245 , 547.41354999\n",
      "generating click on 520.745841209 , 765.616761817\n",
      "((u'28.444242071814752', u'77.02394485473633'), u'')\n",
      "generating click on 514.56974651 , 813.117192805\n",
      "((u'28.444242071814752', u'77.02394485473633'), u'')\n",
      "generating click on 570.819534438 , 495.637952903\n",
      "generating click on 502.941025885 , 466.07390675\n",
      "((u'28.466804984362966', u'77.02239990234375'), u'312, Subhash Nagar, Gurgaon, Haryana')\n",
      "generating click on 543.457965099 , 237.104983293\n",
      "generating click on 507.055196059 , 604.585594063\n",
      "((u'28.456391930778505', u'77.02282905578613'), u'')\n",
      "generating click on 557.730825907 , 644.105855859\n",
      "generating click on 533.719393732 , 666.352473461\n",
      "((u'28.451713268388758', u'77.02506065368652'), u'')\n",
      "generating click on 596.601389106 , 239.405639978\n",
      "generating click on 508.798410815 , 749.218899376\n",
      "((u'28.445449573685508', u'77.02291488647461'), u'')\n",
      "generating click on 533.244598205 , 788.625524457\n",
      "((u'28.445449573685508', u'77.02291488647461'), u'')\n",
      "generating click on 563.405121921 , 624.652962228\n",
      "((u'28.445449573685508', u'77.02291488647461'), u'')\n",
      "generating click on 560.920701846 , 329.041757089\n",
      "generating click on 555.401816985 , 492.082930144\n",
      "((u'28.464843183138477', u'77.02694892883301'), u'')\n",
      "generating click on 526.8166754 , 495.298906275\n",
      "generating click on 568.781602871 , 374.055892082\n",
      "((u'28.473746450090992', u'77.02806472778319'), u'')\n",
      "generating click on 579.097129143 , 769.043859159\n",
      "generating click on 551.251900889 , 729.329397334\n",
      "((u'28.446958931637894', u'77.0266056060791'), u'')\n",
      "generating click on 573.119077543 , 247.234376207\n"
     ]
    }
   ],
   "source": [
    "from selenium.webdriver import ActionChains\n",
    "import random\n",
    "import time\n",
    "locations = set()\n",
    "#[[lat,long],str(address)]\n",
    "topLeftImage = driver.find_element_by_xpath('//*[@id=\"mainH\"]')\n",
    "#ac = ActionChains(driver)\n",
    "#waiter = selenium.webdriver.support.ui.WebDriverWait(driver,4)\n",
    "for i in range(100):\n",
    "    ac = ActionChains(driver)\n",
    "    if i%2==0:\n",
    "        ac.move_to_element(topLeftImage).move_by_offset(600,400).perform()\n",
    "        ac.perform()\n",
    "        time.sleep(1)\n",
    "    else:\n",
    "        xrand = random.random()*100 + 500\n",
    "        yrand = random.random()*700 + 200\n",
    "        print \"generating click on \" + str(xrand) +\" , \"+ str(yrand)\n",
    "        ac.move_to_element(topLeftImage).move_by_offset(xrand,yrand).context_click().perform()\n",
    "        time.sleep(5)\n",
    "        try:\n",
    "            foundAdd = driver.find_element_by_xpath('//*[@id=\"top_lclick\"]/div[1]/b').text\n",
    "        except:\n",
    "            continue\n",
    "        log = proxy.har\n",
    "        lastReq = log['log']['entries'][-1]['request']['url']\n",
    "        res = re.search(\"https:\\/\\/maps\\.mapmyindia.com\\/get_click_revg\\?([0-9]*\\.[0-9]*)\\&([0-9]*\\.[0-9]*)\",lastReq)\n",
    "        if res:\n",
    "            latlong = res.groups()\n",
    "            locations.add((latlong,foundAdd))\n",
    "            print (latlong,foundAdd)\n",
    "    \n"
   ]
  },
  {
   "cell_type": "code",
   "execution_count": 119,
   "metadata": {
    "collapsed": false
   },
   "outputs": [
    {
     "name": "stdout",
     "output_type": "stream",
     "text": [
      "generating click on 573.416339929 , 827.645313351\n",
      "generating click on 526.166074178 , 285.114733862\n",
      "generating click on 572.589649015 , 443.668515176\n",
      "generating click on 506.963458904 , 767.90359674\n",
      "((u'28.444091133111613', u'77.02274322509766'), u'1, Rajiv Colony, Gurgaon, Haryana')\n",
      "generating click on 595.315684686 , 314.337851174\n",
      "generating click on 559.152532017 , 207.414832765\n",
      "((u'28.4863455540149', u'77.02729225158691'), u'89, Shitla Colony, Gurgaon, Haryana')\n",
      "generating click on 554.468505531 , 385.921531613\n",
      "generating click on 562.39094743 , 364.905231593\n",
      "((u'28.47450092975546', u'77.02754974365234'), u'1078, Gurgaon Village, Gurgaon, Haryana')\n",
      "generating click on 548.374481565 , 208.983234053\n",
      "((u'28.47450092975546', u'77.02754974365234'), u'1078, Gurgaon Village, Gurgaon, Haryana')\n",
      "generating click on 594.18377619 , 293.604875298\n",
      "((u'28.47450092975546', u'77.02754974365234'), u'1078, Gurgaon Village, Gurgaon, Haryana')\n",
      "generating click on 551.216883067 , 526.43770092\n",
      "generating click on 596.093218054 , 803.589738034\n",
      "generating click on 530.556921036 , 564.052890874\n",
      "((u'28.45941031276284', u'77.0248031616211'), u'725, Nai Basti, Gurgaon, Haryana')\n",
      "generating click on 523.392007155 , 831.487221108\n",
      "((u'28.45941031276284', u'77.0248031616211'), u'725, Nai Basti, Gurgaon, Haryana')\n",
      "generating click on 558.959309879 , 317.96016382\n",
      "generating click on 530.340746165 , 400.114710444\n",
      "((u'28.471784777745608', u'77.0248031616211'), u'74 15 3, 8 Biswa, Mahavir Pura, Gurgaon, Haryana')\n",
      "generating click on 576.727457833 , 455.708059372\n",
      "generating click on 535.616479307 , 654.784944996\n",
      "((u'28.45261883210606', u'77.02523231506348'), u'584, Shivaji Nagar, Gurgaon, Haryana')\n",
      "generating click on 547.350159003 , 801.383273158\n",
      "((u'28.45261883210606', u'77.02523231506348'), u'584, Shivaji Nagar, Gurgaon, Haryana')\n",
      "generating click on 588.234334512 , 473.761112072\n",
      "generating click on 577.099707817 , 487.31394036\n",
      "((u'28.465220455433155', u'77.02883720397949'), u'419, Adarsh Nagar, Gurgaon, Haryana')\n",
      "generating click on 566.205731531 , 594.711925311\n",
      "generating click on 573.925136243 , 471.910354776\n",
      "((u'28.46642771772517', u'77.02849388122559'), u'202 3, Lajpat Nagar, Gurgaon, Haryana')\n",
      "generating click on 521.71162483 , 439.56089446\n",
      "generating click on 515.858204147 , 639.955854728\n",
      "((u'28.453750775846245', u'77.02351570129395'), u'483, Shivaji Nagar, Gurgaon, Haryana')\n",
      "generating click on 560.230482301 , 816.654504649\n",
      "((u'28.453750775846245', u'77.02351570129395'), u'483, Shivaji Nagar, Gurgaon, Haryana')\n",
      "generating click on 505.889518775 , 396.072844972\n",
      "generating click on 507.439407807 , 811.204798958\n",
      "generating click on 563.609216818 , 781.284658206\n",
      "generating click on 531.092847007 , 631.47865946\n",
      "((u'28.45435447421923', u'77.02488899230957'), u'37, Shivaji Nagar, Gurgaon, Haryana')\n",
      "generating click on 538.797407894 , 866.556949864\n",
      "((u'28.45435447421923', u'77.02488899230957'), u'37, Shivaji Nagar, Gurgaon, Haryana')\n",
      "generating click on 572.736154969 , 440.207379561\n",
      "generating click on 598.212371978 , 269.883033311\n",
      "((u'28.48166821780033', u'77.0306396484375'), u'63, Shitla Enclave, Shitla Colony, Gurgaon, Haryana')\n",
      "generating click on 557.668574963 , 454.657787859\n",
      "generating click on 528.117715383 , 388.515835336\n",
      "((u'28.472690169508155', u'77.02463150024414'), u'132, Gurgaon Village, Gurgaon, Haryana')\n",
      "generating click on 576.22647429 , 531.097300619\n",
      "generating click on 570.92391621 , 640.473692534\n",
      "((u'28.45367531330727', u'77.02823638916016'), u'318 2, Shivaji Nagar, Gurgaon, Haryana')\n",
      "generating click on 529.503069631 , 277.458422661\n",
      "generating click on 545.59327167 , 374.613178025\n",
      "((u'28.473746450090992', u'77.02609062194823'), u'1459, Gurgaon Village, Gurgaon, Haryana')\n",
      "generating click on 520.698952782 , 433.758286499\n",
      "generating click on 542.592981454 , 790.862179017\n",
      "generating click on 544.288014369 , 862.930500878\n",
      "generating click on 536.976091352 , 579.30193767\n",
      "((u'28.45827842961848', u'77.02531814575195'), u'74 16, Prem Nagar 1, Gurgaon, Haryana')\n",
      "generating click on 558.41882549 , 348.744981345\n",
      "generating click on 502.485701519 , 283.125310435\n",
      "((u'28.48061201643414', u'77.02239990234375'), u'643, Sector 5, Gurgaon, Haryana')\n",
      "generating click on 592.799463889 , 479.140634767\n",
      "generating click on 582.221024322 , 295.932141464\n",
      "((u'28.479706692570073', u'77.02926635742188'), u'349, Choti Mata Mandir, Amanpura, Gurgaon, Haryana')\n",
      "generating click on 529.329074928 , 453.721072188\n",
      "generating click on 597.602068885 , 479.115156137\n",
      "((u'28.46582408830315', u'77.03055381774902'), u'149, Adarsh Nagar, Gurgaon, Haryana')\n",
      "generating click on 559.411523861 , 411.708152334\n",
      "((u'28.46582408830315', u'77.03055381774902'), u'149, Adarsh Nagar, Gurgaon, Haryana')\n"
     ]
    },
    {
     "ename": "IOError",
     "evalue": "File not open for writing",
     "output_type": "error",
     "traceback": [
      "\u001b[0;31m---------------------------------------------------------------------------\u001b[0m",
      "\u001b[0;31mIOError\u001b[0m                                   Traceback (most recent call last)",
      "\u001b[0;32m<ipython-input-119-d0a2f1eef9d2>\u001b[0m in \u001b[0;36m<module>\u001b[0;34m()\u001b[0m\n\u001b[1;32m     52\u001b[0m     \u001b[0mlocationsList\u001b[0m \u001b[0;34m=\u001b[0m \u001b[0mlist\u001b[0m\u001b[0;34m(\u001b[0m\u001b[0mlocations\u001b[0m\u001b[0;34m)\u001b[0m\u001b[0;34m\u001b[0m\u001b[0m\n\u001b[1;32m     53\u001b[0m     \u001b[0;32mfor\u001b[0m \u001b[0mlocation\u001b[0m \u001b[0;32min\u001b[0m \u001b[0mlocationsList\u001b[0m\u001b[0;34m:\u001b[0m\u001b[0;34m\u001b[0m\u001b[0m\n\u001b[0;32m---> 54\u001b[0;31m         \u001b[0mthefile\u001b[0m\u001b[0;34m.\u001b[0m\u001b[0mwrite\u001b[0m\u001b[0;34m(\u001b[0m\u001b[0;34m\"%s\\n\"\u001b[0m \u001b[0;34m%\u001b[0m \u001b[0mstr\u001b[0m\u001b[0;34m(\u001b[0m\u001b[0mlocation\u001b[0m\u001b[0;34m)\u001b[0m\u001b[0;34m)\u001b[0m\u001b[0;34m\u001b[0m\u001b[0m\n\u001b[0m\u001b[1;32m     55\u001b[0m \u001b[0mthefile\u001b[0m\u001b[0;34m.\u001b[0m\u001b[0mclose\u001b[0m\u001b[0;34m(\u001b[0m\u001b[0;34m)\u001b[0m\u001b[0;34m\u001b[0m\u001b[0m\n",
      "\u001b[0;31mIOError\u001b[0m: File not open for writing"
     ]
    }
   ],
   "source": [
    "import selenium\n",
    "from selenium import webdriver\n",
    "from selenium.common.exceptions import NoSuchElementException\n",
    "from selenium.webdriver.common.keys import Keys\n",
    "import browsermobproxy\n",
    "server = Server(\"/Users/Jai/Documents/code/python-learning/browsermob-binary/browsermob-proxy-2.1.2-SNAPSHOT/bin/browsermob-proxy\")\n",
    "server.start()\n",
    "proxy = server.create_proxy()\n",
    "co = webdriver.ChromeOptions()\n",
    "co.add_argument('--proxy-server={host}:{port}'.format(host='localhost', port=proxy.port))\n",
    "driver = webdriver.Chrome(chrome_options=co)\n",
    "proxy.new_har()\n",
    "driver.get('https://maps.mapmyindia.com/')\n",
    "driver.find_element_by_xpath('//*[@id=\"auto\"]').send_keys('gurgaon')\n",
    "searchButton = driver.find_element_by_xpath('//*[@id=\"search_icon_auto\"]/img')\n",
    "searchButton.click()\n",
    "time.sleep(5)\n",
    "gurgaonResult = driver.find_elements_by_xpath('//*[@id=\"res_info\"]/div')[1]\n",
    "gurgaonResult.click()\n",
    "time.sleep(10)\n",
    "from selenium.webdriver import ActionChains\n",
    "import random\n",
    "import time\n",
    "locations = set()\n",
    "#[[lat,long],str(address)]\n",
    "topLeftImage = driver.find_element_by_xpath('//*[@id=\"mainH\"]')\n",
    "for i in range(100):\n",
    "    ac = ActionChains(driver)\n",
    "    if i%2==0:\n",
    "        ac.move_to_element(topLeftImage).move_by_offset(600,400).perform()\n",
    "        ac.perform()\n",
    "        time.sleep(1)\n",
    "    else:\n",
    "        xrand = random.random()*100 + 500\n",
    "        yrand = random.random()*700 + 200\n",
    "        print \"generating click on \" + str(xrand) +\" , \"+ str(yrand)\n",
    "        ac.move_to_element(topLeftImage).move_by_offset(xrand,yrand).context_click().perform()\n",
    "        time.sleep(5)\n",
    "        try:\n",
    "            foundAdd = driver.find_element_by_xpath('//*[@id=\"top_lclick\"]/div[1]/b').text\n",
    "        except:\n",
    "            continue\n",
    "        log = proxy.har\n",
    "        lastReq = log['log']['entries'][-1]['request']['url']\n",
    "        res = re.search(\"https:\\/\\/maps\\.mapmyindia.com\\/get_click_revg\\?([0-9]*\\.[0-9]*)\\&([0-9]*\\.[0-9]*)\",lastReq)\n",
    "        if res:\n",
    "            latlong = res.groups()\n",
    "            locations.add((latlong,foundAdd))\n",
    "            print (latlong,foundAdd)\n",
    "            \n",
    "with open ('locations.txt','w') as thefile:\n",
    "    locationsList = list(locations)\n",
    "    for location in locationsList:\n",
    "        thefile.write(\"%s\\n\" % str(location))\n",
    "thefile.close()\n"
   ]
  },
  {
   "cell_type": "code",
   "execution_count": 120,
   "metadata": {
    "collapsed": false
   },
   "outputs": [],
   "source": [
    "thefile.close()\n",
    "with open ('locations.txt','w') as thefile:\n",
    "    locationsList = list(locations)\n",
    "    for location in locationsList:\n",
    "        thefile.write(\"%s\\n\" % str(location))\n",
    "thefile.close()"
   ]
  },
  {
   "cell_type": "code",
   "execution_count": 121,
   "metadata": {
    "collapsed": false
   },
   "outputs": [
    {
     "name": "stdout",
     "output_type": "stream",
     "text": [
      "set([((u'28.45941031276284', u'77.0248031616211'), u'725, Nai Basti, Gurgaon, Haryana'), ((u'28.45827842961848', u'77.02531814575195'), u'74 16, Prem Nagar 1, Gurgaon, Haryana'), ((u'28.45435447421923', u'77.02488899230957'), u'37, Shivaji Nagar, Gurgaon, Haryana'), ((u'28.45261883210606', u'77.02523231506348'), u'584, Shivaji Nagar, Gurgaon, Haryana'), ((u'28.47450092975546', u'77.02754974365234'), u'1078, Gurgaon Village, Gurgaon, Haryana'), ((u'28.46582408830315', u'77.03055381774902'), u'149, Adarsh Nagar, Gurgaon, Haryana'), ((u'28.48166821780033', u'77.0306396484375'), u'63, Shitla Enclave, Shitla Colony, Gurgaon, Haryana'), ((u'28.45367531330727', u'77.02823638916016'), u'318 2, Shivaji Nagar, Gurgaon, Haryana'), ((u'28.473746450090992', u'77.02609062194823'), u'1459, Gurgaon Village, Gurgaon, Haryana'), ((u'28.471784777745608', u'77.0248031616211'), u'74 15 3, 8 Biswa, Mahavir Pura, Gurgaon, Haryana'), ((u'28.453750775846245', u'77.02351570129395'), u'483, Shivaji Nagar, Gurgaon, Haryana'), ((u'28.479706692570073', u'77.02926635742188'), u'349, Choti Mata Mandir, Amanpura, Gurgaon, Haryana'), ((u'28.465220455433155', u'77.02883720397949'), u'419, Adarsh Nagar, Gurgaon, Haryana'), ((u'28.4863455540149', u'77.02729225158691'), u'89, Shitla Colony, Gurgaon, Haryana'), ((u'28.472690169508155', u'77.02463150024414'), u'132, Gurgaon Village, Gurgaon, Haryana'), ((u'28.48061201643414', u'77.02239990234375'), u'643, Sector 5, Gurgaon, Haryana'), ((u'28.46642771772517', u'77.02849388122559'), u'202 3, Lajpat Nagar, Gurgaon, Haryana'), ((u'28.444091133111613', u'77.02274322509766'), u'1, Rajiv Colony, Gurgaon, Haryana')])\n"
     ]
    }
   ],
   "source": [
    "print locations"
   ]
  },
  {
   "cell_type": "code",
   "execution_count": 191,
   "metadata": {
    "collapsed": false
   },
   "outputs": [],
   "source": [
    "#trying out the request generation method\n",
    "import requests\n",
    "import numpy as np\n",
    "def getadd(latlong):\n",
    "    url = 'https://maps.mapmyindia.com/get_click_revg?'+str(latlong[0])+'&'+str(latlong[1])\n",
    "    headers = {'User-Agent':'Mozilla/5.0 (Macintosh; Intel Mac OS X 10_11_3) AppleWebKit/537.36 (KHTML, like Gecko) Chrome/51.0.2704.84 Safari/537.36',\n",
    "              'Accept':'*/*',\n",
    "              'Accept-Encoding':'gzip, deflate, sdch, br',\n",
    "              'Accept-Language':'en-US,en;q=0.8',\n",
    "                'Connection':'keep-alive',\n",
    "               'X-Requested-With':'XMLHttpRequest',\n",
    "              'Referer':'https://maps.mapmyindia.com/place-gurgaon+village-gurgaon-haryana-6CWXEV@zdata=MjguNDc0NDc1Kzc3LjAyMzU0NisxNCtJRDZDV1hFVis=ed'}\n",
    "    #data = {'28.45941031276284':None, '77.0248031616211':''}\n",
    "    response = requests.get(url,headers=headers)\n",
    "    return response.json()['add_place']"
   ]
  },
  {
   "cell_type": "code",
   "execution_count": 185,
   "metadata": {
    "collapsed": false
   },
   "outputs": [
    {
     "data": {
      "text/plain": [
       "u'41, Shitla Enclave, Shitla Colony, Gurgaon, Haryana'"
      ]
     },
     "execution_count": 185,
     "metadata": {},
     "output_type": "execute_result"
    }
   ],
   "source": [
    "getadd(('28.480234799100565','77.03424453735352'))"
   ]
  },
  {
   "cell_type": "code",
   "execution_count": 195,
   "metadata": {
    "collapsed": false
   },
   "outputs": [
    {
     "name": "stdout",
     "output_type": "stream",
     "text": [
      "([28.380526814699703, 76.787567138671875], u'Jatola, Farrukhnagar, Gurgaon District, Haryana')\n",
      "([28.380526814699703, 76.79756713867188], u'Jatola Post Office, Farrukhnagar, Gurgaon District, Haryana')\n",
      "([28.380526814699703, 76.807567138671885], u'Jatola, Farrukhnagar, Gurgaon District, Haryana')\n",
      "([28.380526814699703, 76.81756713867189], u'Tajnagar, Farrukhnagar, Gurgaon District, Haryana')\n",
      "([28.380526814699703, 76.827567138671895], u'Taj Nagar Railway Station, Farrukhnagar, Gurgaon District, Haryana')\n",
      "([28.380526814699703, 76.837567138671901], u'Khawaspur Bus Stop, Farrukhnagar, Gurgaon District, Haryana')\n",
      "([28.380526814699703, 76.847567138671906], u'Khawaspur Bus Stop, Farrukhnagar, Gurgaon District, Haryana')\n",
      "([28.380526814699703, 76.857567138671911], u'Babra Bakipur, Farrukhnagar, Gurgaon District, Haryana')\n",
      "([28.380526814699703, 76.867567138671916], u'Sector 9, Manesar, Haryana')\n",
      "([28.380526814699703, 76.877567138671921], u'562, Sector 8, Manesar, Haryana')\n",
      "([28.380526814699703, 76.887567138671926], u'438, Sector 8, Manesar, Haryana')\n",
      "([28.380526814699703, 76.897567138671931], u'398, Sector 8, Manesar, Haryana')\n",
      "([28.380526814699703, 76.907567138671936], u'139O, Sector 7, Manesar, Haryana')\n",
      "([28.380526814699703, 76.917567138671942], u'145, Sector 7, Manesar, Haryana')\n",
      "([28.380526814699703, 76.927567138671947], u'291F, Sector 6, Manesar, Haryana')\n",
      "([28.380526814699703, 76.937567138671952], u'100, Sector 6, Manesar, Haryana')\n",
      "([28.380526814699703, 76.947567138671957], u'37, Sector 82, Gurgaon, Haryana')\n",
      "([28.380526814699703, 76.957567138671962], u'37, Sector 82, Gurgaon, Haryana')\n",
      "([28.380526814699703, 76.967567138671967], u'39, Sector 82, Gurgaon, Haryana')\n",
      "([28.380526814699703, 76.977567138671972], u'40, Kherki Daula, Gurgaon, Haryana')\n",
      "([28.380526814699703, 76.987567138671977], u'40, Kherki Daula, Gurgaon, Haryana')\n",
      "([28.380526814699703, 76.997567138671982], u'Baba Mohan Ram Temple, Manesar, Gurgaon District, Haryana')\n",
      "([28.380526814699703, 77.007567138671988], u'Farm House, Dhani Hasanpur Village, Gurgaon, Haryana')\n",
      "([28.380526814699703, 77.017567138671993], u'Shiv Shuttering Store, Gurgaon, Gurgaon District, Haryana')\n",
      "([28.380526814699703, 77.027567138671998], u'Rice Godown, Sector 70A, Gurgaon, Haryana')\n",
      "([28.380526814699703, 77.037567138672003], u'Farm House, Gurgaon, Gurgaon District, Haryana')\n",
      "([28.380526814699703, 77.047567138672008], u'Sector 66, Gurgaon, Haryana')\n",
      "([28.380526814699703, 77.057567138672013], u'Sector 65, Gurgaon, Haryana')\n",
      "([28.380526814699703, 77.067567138672018], u'Sector 65, Gurgaon, Haryana')\n",
      "([28.380526814699703, 77.077567138672023], u'Dairy Farm, Gurgaon, Gurgaon District, Haryana')\n",
      "([28.380526814699703, 77.087567138672028], u'Baba Mohan Ram Mandir, Gurgaon, Gurgaon District, Haryana')\n",
      "([28.380526814699703, 77.097567138672034], u'Dairy, Sohna, Gurgaon District, Haryana')\n"
     ]
    },
    {
     "ename": "KeyboardInterrupt",
     "evalue": "",
     "output_type": "error",
     "traceback": [
      "\u001b[0;31m---------------------------------------------------------------------------\u001b[0m",
      "\u001b[0;31mKeyboardInterrupt\u001b[0m                         Traceback (most recent call last)",
      "\u001b[0;32m<ipython-input-195-9c7d9ada5d16>\u001b[0m in \u001b[0;36m<module>\u001b[0;34m()\u001b[0m\n\u001b[1;32m      4\u001b[0m     \u001b[0;32mfor\u001b[0m \u001b[0mlongitude\u001b[0m \u001b[0;32min\u001b[0m \u001b[0mnp\u001b[0m\u001b[0;34m.\u001b[0m\u001b[0marange\u001b[0m\u001b[0;34m(\u001b[0m\u001b[0;36m76.78756713867188\u001b[0m\u001b[0;34m,\u001b[0m\u001b[0;36m77.35885620117186\u001b[0m\u001b[0;34m,\u001b[0m\u001b[0;36m0.01\u001b[0m\u001b[0;34m)\u001b[0m\u001b[0;34m:\u001b[0m\u001b[0;34m\u001b[0m\u001b[0m\n\u001b[1;32m      5\u001b[0m         \u001b[0mlatlong\u001b[0m \u001b[0;34m=\u001b[0m \u001b[0;34m[\u001b[0m\u001b[0mlatitude\u001b[0m\u001b[0;34m,\u001b[0m\u001b[0mlongitude\u001b[0m\u001b[0;34m]\u001b[0m\u001b[0;34m\u001b[0m\u001b[0m\n\u001b[0;32m----> 6\u001b[0;31m         \u001b[0madd\u001b[0m \u001b[0;34m=\u001b[0m \u001b[0mgetadd\u001b[0m\u001b[0;34m(\u001b[0m\u001b[0mlatlong\u001b[0m\u001b[0;34m)\u001b[0m\u001b[0;34m\u001b[0m\u001b[0m\n\u001b[0m\u001b[1;32m      7\u001b[0m         \u001b[0mlocations\u001b[0m\u001b[0;34m.\u001b[0m\u001b[0mappend\u001b[0m\u001b[0;34m(\u001b[0m\u001b[0;34m(\u001b[0m\u001b[0mlatlong\u001b[0m\u001b[0;34m,\u001b[0m\u001b[0madd\u001b[0m\u001b[0;34m)\u001b[0m\u001b[0;34m)\u001b[0m\u001b[0;34m\u001b[0m\u001b[0m\n\u001b[1;32m      8\u001b[0m         \u001b[0;32mprint\u001b[0m \u001b[0mlocations\u001b[0m\u001b[0;34m[\u001b[0m\u001b[0;34m-\u001b[0m\u001b[0;36m1\u001b[0m\u001b[0;34m]\u001b[0m\u001b[0;34m\u001b[0m\u001b[0m\n",
      "\u001b[0;32m<ipython-input-191-0edb6b61b76b>\u001b[0m in \u001b[0;36mgetadd\u001b[0;34m(latlong)\u001b[0m\n\u001b[1;32m     12\u001b[0m               'Referer':'https://maps.mapmyindia.com/place-gurgaon+village-gurgaon-haryana-6CWXEV@zdata=MjguNDc0NDc1Kzc3LjAyMzU0NisxNCtJRDZDV1hFVis=ed'}\n\u001b[1;32m     13\u001b[0m     \u001b[0;31m#data = {'28.45941031276284':None, '77.0248031616211':''}\u001b[0m\u001b[0;34m\u001b[0m\u001b[0;34m\u001b[0m\u001b[0m\n\u001b[0;32m---> 14\u001b[0;31m     \u001b[0mresponse\u001b[0m \u001b[0;34m=\u001b[0m \u001b[0mrequests\u001b[0m\u001b[0;34m.\u001b[0m\u001b[0mget\u001b[0m\u001b[0;34m(\u001b[0m\u001b[0murl\u001b[0m\u001b[0;34m,\u001b[0m\u001b[0mheaders\u001b[0m\u001b[0;34m=\u001b[0m\u001b[0mheaders\u001b[0m\u001b[0;34m)\u001b[0m\u001b[0;34m\u001b[0m\u001b[0m\n\u001b[0m\u001b[1;32m     15\u001b[0m     \u001b[0;32mreturn\u001b[0m \u001b[0mresponse\u001b[0m\u001b[0;34m.\u001b[0m\u001b[0mjson\u001b[0m\u001b[0;34m(\u001b[0m\u001b[0;34m)\u001b[0m\u001b[0;34m[\u001b[0m\u001b[0;34m'add_place'\u001b[0m\u001b[0;34m]\u001b[0m\u001b[0;34m\u001b[0m\u001b[0m\n",
      "\u001b[0;32m/Users/Jai/Documents/code/python-learning/ve/lib/python2.7/site-packages/requests/api.pyc\u001b[0m in \u001b[0;36mget\u001b[0;34m(url, params, **kwargs)\u001b[0m\n\u001b[1;32m     69\u001b[0m \u001b[0;34m\u001b[0m\u001b[0m\n\u001b[1;32m     70\u001b[0m     \u001b[0mkwargs\u001b[0m\u001b[0;34m.\u001b[0m\u001b[0msetdefault\u001b[0m\u001b[0;34m(\u001b[0m\u001b[0;34m'allow_redirects'\u001b[0m\u001b[0;34m,\u001b[0m \u001b[0mTrue\u001b[0m\u001b[0;34m)\u001b[0m\u001b[0;34m\u001b[0m\u001b[0m\n\u001b[0;32m---> 71\u001b[0;31m     \u001b[0;32mreturn\u001b[0m \u001b[0mrequest\u001b[0m\u001b[0;34m(\u001b[0m\u001b[0;34m'get'\u001b[0m\u001b[0;34m,\u001b[0m \u001b[0murl\u001b[0m\u001b[0;34m,\u001b[0m \u001b[0mparams\u001b[0m\u001b[0;34m=\u001b[0m\u001b[0mparams\u001b[0m\u001b[0;34m,\u001b[0m \u001b[0;34m**\u001b[0m\u001b[0mkwargs\u001b[0m\u001b[0;34m)\u001b[0m\u001b[0;34m\u001b[0m\u001b[0m\n\u001b[0m\u001b[1;32m     72\u001b[0m \u001b[0;34m\u001b[0m\u001b[0m\n\u001b[1;32m     73\u001b[0m \u001b[0;34m\u001b[0m\u001b[0m\n",
      "\u001b[0;32m/Users/Jai/Documents/code/python-learning/ve/lib/python2.7/site-packages/requests/api.pyc\u001b[0m in \u001b[0;36mrequest\u001b[0;34m(method, url, **kwargs)\u001b[0m\n\u001b[1;32m     55\u001b[0m     \u001b[0;31m# cases, and look like a memory leak in others.\u001b[0m\u001b[0;34m\u001b[0m\u001b[0;34m\u001b[0m\u001b[0m\n\u001b[1;32m     56\u001b[0m     \u001b[0;32mwith\u001b[0m \u001b[0msessions\u001b[0m\u001b[0;34m.\u001b[0m\u001b[0mSession\u001b[0m\u001b[0;34m(\u001b[0m\u001b[0;34m)\u001b[0m \u001b[0;32mas\u001b[0m \u001b[0msession\u001b[0m\u001b[0;34m:\u001b[0m\u001b[0;34m\u001b[0m\u001b[0m\n\u001b[0;32m---> 57\u001b[0;31m         \u001b[0;32mreturn\u001b[0m \u001b[0msession\u001b[0m\u001b[0;34m.\u001b[0m\u001b[0mrequest\u001b[0m\u001b[0;34m(\u001b[0m\u001b[0mmethod\u001b[0m\u001b[0;34m=\u001b[0m\u001b[0mmethod\u001b[0m\u001b[0;34m,\u001b[0m \u001b[0murl\u001b[0m\u001b[0;34m=\u001b[0m\u001b[0murl\u001b[0m\u001b[0;34m,\u001b[0m \u001b[0;34m**\u001b[0m\u001b[0mkwargs\u001b[0m\u001b[0;34m)\u001b[0m\u001b[0;34m\u001b[0m\u001b[0m\n\u001b[0m\u001b[1;32m     58\u001b[0m \u001b[0;34m\u001b[0m\u001b[0m\n\u001b[1;32m     59\u001b[0m \u001b[0;34m\u001b[0m\u001b[0m\n",
      "\u001b[0;32m/Users/Jai/Documents/code/python-learning/ve/lib/python2.7/site-packages/requests/sessions.pyc\u001b[0m in \u001b[0;36mrequest\u001b[0;34m(self, method, url, params, data, headers, cookies, files, auth, timeout, allow_redirects, proxies, hooks, stream, verify, cert, json)\u001b[0m\n\u001b[1;32m    473\u001b[0m         }\n\u001b[1;32m    474\u001b[0m         \u001b[0msend_kwargs\u001b[0m\u001b[0;34m.\u001b[0m\u001b[0mupdate\u001b[0m\u001b[0;34m(\u001b[0m\u001b[0msettings\u001b[0m\u001b[0;34m)\u001b[0m\u001b[0;34m\u001b[0m\u001b[0m\n\u001b[0;32m--> 475\u001b[0;31m         \u001b[0mresp\u001b[0m \u001b[0;34m=\u001b[0m \u001b[0mself\u001b[0m\u001b[0;34m.\u001b[0m\u001b[0msend\u001b[0m\u001b[0;34m(\u001b[0m\u001b[0mprep\u001b[0m\u001b[0;34m,\u001b[0m \u001b[0;34m**\u001b[0m\u001b[0msend_kwargs\u001b[0m\u001b[0;34m)\u001b[0m\u001b[0;34m\u001b[0m\u001b[0m\n\u001b[0m\u001b[1;32m    476\u001b[0m \u001b[0;34m\u001b[0m\u001b[0m\n\u001b[1;32m    477\u001b[0m         \u001b[0;32mreturn\u001b[0m \u001b[0mresp\u001b[0m\u001b[0;34m\u001b[0m\u001b[0m\n",
      "\u001b[0;32m/Users/Jai/Documents/code/python-learning/ve/lib/python2.7/site-packages/requests/sessions.pyc\u001b[0m in \u001b[0;36msend\u001b[0;34m(self, request, **kwargs)\u001b[0m\n\u001b[1;32m    583\u001b[0m \u001b[0;34m\u001b[0m\u001b[0m\n\u001b[1;32m    584\u001b[0m         \u001b[0;31m# Send the request\u001b[0m\u001b[0;34m\u001b[0m\u001b[0;34m\u001b[0m\u001b[0m\n\u001b[0;32m--> 585\u001b[0;31m         \u001b[0mr\u001b[0m \u001b[0;34m=\u001b[0m \u001b[0madapter\u001b[0m\u001b[0;34m.\u001b[0m\u001b[0msend\u001b[0m\u001b[0;34m(\u001b[0m\u001b[0mrequest\u001b[0m\u001b[0;34m,\u001b[0m \u001b[0;34m**\u001b[0m\u001b[0mkwargs\u001b[0m\u001b[0;34m)\u001b[0m\u001b[0;34m\u001b[0m\u001b[0m\n\u001b[0m\u001b[1;32m    586\u001b[0m \u001b[0;34m\u001b[0m\u001b[0m\n\u001b[1;32m    587\u001b[0m         \u001b[0;31m# Total elapsed time of the request (approximately)\u001b[0m\u001b[0;34m\u001b[0m\u001b[0;34m\u001b[0m\u001b[0m\n",
      "\u001b[0;32m/Users/Jai/Documents/code/python-learning/ve/lib/python2.7/site-packages/requests/adapters.pyc\u001b[0m in \u001b[0;36msend\u001b[0;34m(self, request, stream, timeout, verify, cert, proxies)\u001b[0m\n\u001b[1;32m    401\u001b[0m                     \u001b[0mdecode_content\u001b[0m\u001b[0;34m=\u001b[0m\u001b[0mFalse\u001b[0m\u001b[0;34m,\u001b[0m\u001b[0;34m\u001b[0m\u001b[0m\n\u001b[1;32m    402\u001b[0m                     \u001b[0mretries\u001b[0m\u001b[0;34m=\u001b[0m\u001b[0mself\u001b[0m\u001b[0;34m.\u001b[0m\u001b[0mmax_retries\u001b[0m\u001b[0;34m,\u001b[0m\u001b[0;34m\u001b[0m\u001b[0m\n\u001b[0;32m--> 403\u001b[0;31m                     \u001b[0mtimeout\u001b[0m\u001b[0;34m=\u001b[0m\u001b[0mtimeout\u001b[0m\u001b[0;34m\u001b[0m\u001b[0m\n\u001b[0m\u001b[1;32m    404\u001b[0m                 )\n\u001b[1;32m    405\u001b[0m \u001b[0;34m\u001b[0m\u001b[0m\n",
      "\u001b[0;32m/Users/Jai/Documents/code/python-learning/ve/lib/python2.7/site-packages/requests/packages/urllib3/connectionpool.pyc\u001b[0m in \u001b[0;36murlopen\u001b[0;34m(self, method, url, body, headers, retries, redirect, assert_same_host, timeout, pool_timeout, release_conn, chunked, **response_kw)\u001b[0m\n\u001b[1;32m    576\u001b[0m                                                   \u001b[0mtimeout\u001b[0m\u001b[0;34m=\u001b[0m\u001b[0mtimeout_obj\u001b[0m\u001b[0;34m,\u001b[0m\u001b[0;34m\u001b[0m\u001b[0m\n\u001b[1;32m    577\u001b[0m                                                   \u001b[0mbody\u001b[0m\u001b[0;34m=\u001b[0m\u001b[0mbody\u001b[0m\u001b[0;34m,\u001b[0m \u001b[0mheaders\u001b[0m\u001b[0;34m=\u001b[0m\u001b[0mheaders\u001b[0m\u001b[0;34m,\u001b[0m\u001b[0;34m\u001b[0m\u001b[0m\n\u001b[0;32m--> 578\u001b[0;31m                                                   chunked=chunked)\n\u001b[0m\u001b[1;32m    579\u001b[0m \u001b[0;34m\u001b[0m\u001b[0m\n\u001b[1;32m    580\u001b[0m             \u001b[0;31m# If we're going to release the connection in ``finally:``, then\u001b[0m\u001b[0;34m\u001b[0m\u001b[0;34m\u001b[0m\u001b[0m\n",
      "\u001b[0;32m/Users/Jai/Documents/code/python-learning/ve/lib/python2.7/site-packages/requests/packages/urllib3/connectionpool.pyc\u001b[0m in \u001b[0;36m_make_request\u001b[0;34m(self, conn, method, url, timeout, chunked, **httplib_request_kw)\u001b[0m\n\u001b[1;32m    349\u001b[0m         \u001b[0;31m# Trigger any extra validation we need to do.\u001b[0m\u001b[0;34m\u001b[0m\u001b[0;34m\u001b[0m\u001b[0m\n\u001b[1;32m    350\u001b[0m         \u001b[0;32mtry\u001b[0m\u001b[0;34m:\u001b[0m\u001b[0;34m\u001b[0m\u001b[0m\n\u001b[0;32m--> 351\u001b[0;31m             \u001b[0mself\u001b[0m\u001b[0;34m.\u001b[0m\u001b[0m_validate_conn\u001b[0m\u001b[0;34m(\u001b[0m\u001b[0mconn\u001b[0m\u001b[0;34m)\u001b[0m\u001b[0;34m\u001b[0m\u001b[0m\n\u001b[0m\u001b[1;32m    352\u001b[0m         \u001b[0;32mexcept\u001b[0m \u001b[0;34m(\u001b[0m\u001b[0mSocketTimeout\u001b[0m\u001b[0;34m,\u001b[0m \u001b[0mBaseSSLError\u001b[0m\u001b[0;34m)\u001b[0m \u001b[0;32mas\u001b[0m \u001b[0me\u001b[0m\u001b[0;34m:\u001b[0m\u001b[0;34m\u001b[0m\u001b[0m\n\u001b[1;32m    353\u001b[0m             \u001b[0;31m# Py2 raises this as a BaseSSLError, Py3 raises it as socket timeout.\u001b[0m\u001b[0;34m\u001b[0m\u001b[0;34m\u001b[0m\u001b[0m\n",
      "\u001b[0;32m/Users/Jai/Documents/code/python-learning/ve/lib/python2.7/site-packages/requests/packages/urllib3/connectionpool.pyc\u001b[0m in \u001b[0;36m_validate_conn\u001b[0;34m(self, conn)\u001b[0m\n\u001b[1;32m    812\u001b[0m         \u001b[0;31m# Force connect early to allow us to validate the connection.\u001b[0m\u001b[0;34m\u001b[0m\u001b[0;34m\u001b[0m\u001b[0m\n\u001b[1;32m    813\u001b[0m         \u001b[0;32mif\u001b[0m \u001b[0;32mnot\u001b[0m \u001b[0mgetattr\u001b[0m\u001b[0;34m(\u001b[0m\u001b[0mconn\u001b[0m\u001b[0;34m,\u001b[0m \u001b[0;34m'sock'\u001b[0m\u001b[0;34m,\u001b[0m \u001b[0mNone\u001b[0m\u001b[0;34m)\u001b[0m\u001b[0;34m:\u001b[0m  \u001b[0;31m# AppEngine might not have  `.sock`\u001b[0m\u001b[0;34m\u001b[0m\u001b[0m\n\u001b[0;32m--> 814\u001b[0;31m             \u001b[0mconn\u001b[0m\u001b[0;34m.\u001b[0m\u001b[0mconnect\u001b[0m\u001b[0;34m(\u001b[0m\u001b[0;34m)\u001b[0m\u001b[0;34m\u001b[0m\u001b[0m\n\u001b[0m\u001b[1;32m    815\u001b[0m \u001b[0;34m\u001b[0m\u001b[0m\n\u001b[1;32m    816\u001b[0m         \u001b[0;32mif\u001b[0m \u001b[0;32mnot\u001b[0m \u001b[0mconn\u001b[0m\u001b[0;34m.\u001b[0m\u001b[0mis_verified\u001b[0m\u001b[0;34m:\u001b[0m\u001b[0;34m\u001b[0m\u001b[0m\n",
      "\u001b[0;32m/Users/Jai/Documents/code/python-learning/ve/lib/python2.7/site-packages/requests/packages/urllib3/connection.pyc\u001b[0m in \u001b[0;36mconnect\u001b[0;34m(self)\u001b[0m\n\u001b[1;32m    287\u001b[0m                                     \u001b[0mca_cert_dir\u001b[0m\u001b[0;34m=\u001b[0m\u001b[0mself\u001b[0m\u001b[0;34m.\u001b[0m\u001b[0mca_cert_dir\u001b[0m\u001b[0;34m,\u001b[0m\u001b[0;34m\u001b[0m\u001b[0m\n\u001b[1;32m    288\u001b[0m                                     \u001b[0mserver_hostname\u001b[0m\u001b[0;34m=\u001b[0m\u001b[0mhostname\u001b[0m\u001b[0;34m,\u001b[0m\u001b[0;34m\u001b[0m\u001b[0m\n\u001b[0;32m--> 289\u001b[0;31m                                     ssl_version=resolved_ssl_version)\n\u001b[0m\u001b[1;32m    290\u001b[0m \u001b[0;34m\u001b[0m\u001b[0m\n\u001b[1;32m    291\u001b[0m         \u001b[0;32mif\u001b[0m \u001b[0mself\u001b[0m\u001b[0;34m.\u001b[0m\u001b[0massert_fingerprint\u001b[0m\u001b[0;34m:\u001b[0m\u001b[0;34m\u001b[0m\u001b[0m\n",
      "\u001b[0;32m/Users/Jai/Documents/code/python-learning/ve/lib/python2.7/site-packages/requests/packages/urllib3/util/ssl_.pyc\u001b[0m in \u001b[0;36mssl_wrap_socket\u001b[0;34m(sock, keyfile, certfile, cert_reqs, ca_certs, server_hostname, ssl_version, ciphers, ssl_context, ca_cert_dir)\u001b[0m\n\u001b[1;32m    306\u001b[0m         \u001b[0mcontext\u001b[0m\u001b[0;34m.\u001b[0m\u001b[0mload_cert_chain\u001b[0m\u001b[0;34m(\u001b[0m\u001b[0mcertfile\u001b[0m\u001b[0;34m,\u001b[0m \u001b[0mkeyfile\u001b[0m\u001b[0;34m)\u001b[0m\u001b[0;34m\u001b[0m\u001b[0m\n\u001b[1;32m    307\u001b[0m     \u001b[0;32mif\u001b[0m \u001b[0mHAS_SNI\u001b[0m\u001b[0;34m:\u001b[0m  \u001b[0;31m# Platform-specific: OpenSSL with enabled SNI\u001b[0m\u001b[0;34m\u001b[0m\u001b[0m\n\u001b[0;32m--> 308\u001b[0;31m         \u001b[0;32mreturn\u001b[0m \u001b[0mcontext\u001b[0m\u001b[0;34m.\u001b[0m\u001b[0mwrap_socket\u001b[0m\u001b[0;34m(\u001b[0m\u001b[0msock\u001b[0m\u001b[0;34m,\u001b[0m \u001b[0mserver_hostname\u001b[0m\u001b[0;34m=\u001b[0m\u001b[0mserver_hostname\u001b[0m\u001b[0;34m)\u001b[0m\u001b[0;34m\u001b[0m\u001b[0m\n\u001b[0m\u001b[1;32m    309\u001b[0m \u001b[0;34m\u001b[0m\u001b[0m\n\u001b[1;32m    310\u001b[0m     warnings.warn(\n",
      "\u001b[0;32m/System/Library/Frameworks/Python.framework/Versions/2.7/lib/python2.7/ssl.pyc\u001b[0m in \u001b[0;36mwrap_socket\u001b[0;34m(self, sock, server_side, do_handshake_on_connect, suppress_ragged_eofs, server_hostname)\u001b[0m\n\u001b[1;32m    350\u001b[0m                          \u001b[0msuppress_ragged_eofs\u001b[0m\u001b[0;34m=\u001b[0m\u001b[0msuppress_ragged_eofs\u001b[0m\u001b[0;34m,\u001b[0m\u001b[0;34m\u001b[0m\u001b[0m\n\u001b[1;32m    351\u001b[0m                          \u001b[0mserver_hostname\u001b[0m\u001b[0;34m=\u001b[0m\u001b[0mserver_hostname\u001b[0m\u001b[0;34m,\u001b[0m\u001b[0;34m\u001b[0m\u001b[0m\n\u001b[0;32m--> 352\u001b[0;31m                          _context=self)\n\u001b[0m\u001b[1;32m    353\u001b[0m \u001b[0;34m\u001b[0m\u001b[0m\n\u001b[1;32m    354\u001b[0m     \u001b[0;32mdef\u001b[0m \u001b[0mset_npn_protocols\u001b[0m\u001b[0;34m(\u001b[0m\u001b[0mself\u001b[0m\u001b[0;34m,\u001b[0m \u001b[0mnpn_protocols\u001b[0m\u001b[0;34m)\u001b[0m\u001b[0;34m:\u001b[0m\u001b[0;34m\u001b[0m\u001b[0m\n",
      "\u001b[0;32m/System/Library/Frameworks/Python.framework/Versions/2.7/lib/python2.7/ssl.pyc\u001b[0m in \u001b[0;36m__init__\u001b[0;34m(self, sock, keyfile, certfile, server_side, cert_reqs, ssl_version, ca_certs, do_handshake_on_connect, family, type, proto, fileno, suppress_ragged_eofs, npn_protocols, ciphers, server_hostname, _context)\u001b[0m\n\u001b[1;32m    577\u001b[0m                         \u001b[0;31m# non-blocking\u001b[0m\u001b[0;34m\u001b[0m\u001b[0;34m\u001b[0m\u001b[0m\n\u001b[1;32m    578\u001b[0m                         \u001b[0;32mraise\u001b[0m \u001b[0mValueError\u001b[0m\u001b[0;34m(\u001b[0m\u001b[0;34m\"do_handshake_on_connect should not be specified for non-blocking sockets\"\u001b[0m\u001b[0;34m)\u001b[0m\u001b[0;34m\u001b[0m\u001b[0m\n\u001b[0;32m--> 579\u001b[0;31m                     \u001b[0mself\u001b[0m\u001b[0;34m.\u001b[0m\u001b[0mdo_handshake\u001b[0m\u001b[0;34m(\u001b[0m\u001b[0;34m)\u001b[0m\u001b[0;34m\u001b[0m\u001b[0m\n\u001b[0m\u001b[1;32m    580\u001b[0m \u001b[0;34m\u001b[0m\u001b[0m\n\u001b[1;32m    581\u001b[0m             \u001b[0;32mexcept\u001b[0m \u001b[0;34m(\u001b[0m\u001b[0mOSError\u001b[0m\u001b[0;34m,\u001b[0m \u001b[0mValueError\u001b[0m\u001b[0;34m)\u001b[0m\u001b[0;34m:\u001b[0m\u001b[0;34m\u001b[0m\u001b[0m\n",
      "\u001b[0;32m/System/Library/Frameworks/Python.framework/Versions/2.7/lib/python2.7/ssl.pyc\u001b[0m in \u001b[0;36mdo_handshake\u001b[0;34m(self, block)\u001b[0m\n\u001b[1;32m    806\u001b[0m             \u001b[0;32mif\u001b[0m \u001b[0mtimeout\u001b[0m \u001b[0;34m==\u001b[0m \u001b[0;36m0.0\u001b[0m \u001b[0;32mand\u001b[0m \u001b[0mblock\u001b[0m\u001b[0;34m:\u001b[0m\u001b[0;34m\u001b[0m\u001b[0m\n\u001b[1;32m    807\u001b[0m                 \u001b[0mself\u001b[0m\u001b[0;34m.\u001b[0m\u001b[0msettimeout\u001b[0m\u001b[0;34m(\u001b[0m\u001b[0mNone\u001b[0m\u001b[0;34m)\u001b[0m\u001b[0;34m\u001b[0m\u001b[0m\n\u001b[0;32m--> 808\u001b[0;31m             \u001b[0mself\u001b[0m\u001b[0;34m.\u001b[0m\u001b[0m_sslobj\u001b[0m\u001b[0;34m.\u001b[0m\u001b[0mdo_handshake\u001b[0m\u001b[0;34m(\u001b[0m\u001b[0;34m)\u001b[0m\u001b[0;34m\u001b[0m\u001b[0m\n\u001b[0m\u001b[1;32m    809\u001b[0m         \u001b[0;32mfinally\u001b[0m\u001b[0;34m:\u001b[0m\u001b[0;34m\u001b[0m\u001b[0m\n\u001b[1;32m    810\u001b[0m             \u001b[0mself\u001b[0m\u001b[0;34m.\u001b[0m\u001b[0msettimeout\u001b[0m\u001b[0;34m(\u001b[0m\u001b[0mtimeout\u001b[0m\u001b[0;34m)\u001b[0m\u001b[0;34m\u001b[0m\u001b[0m\n",
      "\u001b[0;31mKeyboardInterrupt\u001b[0m: "
     ]
    }
   ],
   "source": [
    "locations = list()\n",
    "# [(lat,long) , str(add)]\n",
    "for latitude in np.arange(28.380526814699703,28.872336882255933,0.01):\n",
    "    for longitude in np.arange(76.78756713867188,77.35885620117186,0.01):\n",
    "        latlong = [latitude,longitude]\n",
    "        add = getadd(latlong)\n",
    "        locations.append((latlong,add))\n",
    "        print locations[-1]"
   ]
  },
  {
   "cell_type": "code",
   "execution_count": 1,
   "metadata": {
    "collapsed": false
   },
   "outputs": [],
   "source": [
    "#trying out the request generation method\n",
    "import requests\n",
    "import numpy as np\n",
    "def getadd(latlong):\n",
    "    response=None\n",
    "    try:\n",
    "        url = 'https://maps.mapmyindia.com/get_click_revg?'+str(latlong[0])+'&'+str(latlong[1])\n",
    "        headers = {'User-Agent':'Mozilla/5.0 (Macintosh; Intel Mac OS X 10_11_3) AppleWebKit/537.36 (KHTML, like Gecko) Chrome/51.0.2704.84 Safari/537.36',\n",
    "                  'Accept':'*/*',\n",
    "                  'Accept-Encoding':'gzip, deflate, sdch, br',\n",
    "                  'Accept-Language':'en-US,en;q=0.8',\n",
    "                    'Connection':'keep-alive',\n",
    "                   'X-Requested-With':'XMLHttpRequest',\n",
    "                  'Referer':'https://maps.mapmyindia.com/place-gurgaon+village-gurgaon-haryana-6CWXEV@zdata=MjguNDc0NDc1Kzc3LjAyMzU0NisxNCtJRDZDV1hFVis=ed'}\n",
    "        #data = {'28.45941031276284':None, '77.0248031616211':''}\n",
    "        try:\n",
    "            response = requests.get(url,headers=headers)\n",
    "        except requests.exceptions.ConnectionError:\n",
    "            print 'query failed for latlong -' + str(latlong)+ ', trying again.'\n",
    "            return getadd(latlong)\n",
    "        addressString = response.json()['add_place']\n",
    "    except Exception:\n",
    "        print \"some random error occurred : \" + str(response)\n",
    "        addressString = getadd(latlong)\n",
    "\n",
    "    return addressString\n",
    "\n",
    "def scrape(latstart,latend,longstart,longend,step):\n",
    "    # [(lat,long) , str(add)]\n",
    "    import numpy as np\n",
    "    locations =[ [(i,j) for i in np.arange(latstart,latend,step)] for j in np.arange(longstart,longend,step)]\n",
    "    from multiprocessing import Pool\n",
    "    processPool = Pool(10)\n",
    "    #addresses = list()\n",
    "    with open('locations.txt','w') as theFile:\n",
    "        for latitudearray in locations:\n",
    "            addresses = processPool.map(mappingfunc,latitudearray)\n",
    "            for elem in addresses:\n",
    "                theFile.write(\"%s\\n\" % str(elem))\n",
    "    theFile.close()\n",
    "    pass\n",
    "\n",
    "def mappingfunc(latlong):\n",
    "    add = getadd(latlong)\n",
    "    print add #for checking if the process actually is working\n",
    "    return latlong,add\n",
    "\n",
    "\n",
    "if __name__=='__main__':\n",
    "    #scrape(28.411332341094784,28.475029062314366,77.0057487487793,77.08591461181639,0.001)\n",
    "    pass"
   ]
  },
  {
   "cell_type": "code",
   "execution_count": 30,
   "metadata": {
    "collapsed": false
   },
   "outputs": [
    {
     "name": "stdout",
     "output_type": "stream",
     "text": [
      "file too small for resuming\n",
      "(28.380526814699703, 76.78756713867188)\n"
     ]
    }
   ],
   "source": [
    "import os\n",
    "def tail(f, n, offset=0):\n",
    "    statinfo = os.stat('locations.txt')\n",
    "    #print statinfo\n",
    "    if(statinfo.st_size<200):\n",
    "        return None\n",
    "    stdin,stdout = os.popen2(\"tail -n \"+str(n)+\" \"+f)\n",
    "    stdin.close()\n",
    "    lines = stdout.readlines(); stdout.close()\n",
    "    return lines\n",
    "\n",
    "def parse(sentence):\n",
    "    import re\n",
    "    result = re.search('\\(\\(([0-9]*\\.[0-9]*)\\, ([0-9]*\\.[0-9]*)\\)\\, u\\'([a-zA-Z ,]*\\'\\))',str(sentence))\n",
    "    if result:\n",
    "        lat=float(result.groups()[0])\n",
    "        lon=float(result.groups()[1])\n",
    "        add = result.groups()[2]\n",
    "        res = ((lat,lon),add)\n",
    "        #print res\n",
    "        return res\n",
    "    return None\n",
    "\n",
    "def resume(theFile,latstart,latend,longstart,longend,step):\n",
    "    #returns the (latstart,longstart) from which the process has to resume from\n",
    "    lastline = tail(theFile,1)\n",
    "    if lastline==None or lastline == \"\":\n",
    "        print \"file too small for resuming\"\n",
    "        return latstart,longstart\n",
    "    lastreq = parse(lastline)\n",
    "    if lastreq:\n",
    "        if(float(lastreq[0][0])-step>=latend):\n",
    "            scrape(lastreq[0][0]+step,lastreq[0][1],latend,lastreq[0][1]+step,step)\n",
    "        return latstart,lastreq[0][1]+step\n",
    "    else:\n",
    "        print \"couldn't find last request\"\n",
    "        return latstart,longstart\n",
    "\n",
    "(latstart,latend,longstart,longend)=(28.380526814699703,28.872336882255933,76.78756713867188,77.35885620117186)\n",
    "#with open('locations.txt','r') as theFile:\n",
    "print resume('locations.txt',latstart,latend,longstart,longend,0.0001)"
   ]
  },
  {
   "cell_type": "code",
   "execution_count": 54,
   "metadata": {
    "collapsed": false
   },
   "outputs": [
    {
     "name": "stdout",
     "output_type": "stream",
     "text": [
      "1329\n",
      "28\n",
      "27\n",
      "20\n",
      "20\n",
      "19\n",
      "2\n",
      "2\n",
      "2\n",
      "2\n",
      "3\n",
      "2\n",
      "5\n",
      "2\n",
      "194\n",
      "162\n",
      "220\n",
      "273\n",
      "2\n",
      "1\n",
      "1\n",
      "2\n",
      "1\n",
      "1\n",
      "1\n",
      "1\n",
      "109\n",
      "89\n",
      "118\n",
      "48\n"
     ]
    }
   ],
   "source": [
    "from pymongo import MongoClient\n",
    "geoData = MongoClient().dbclient.scraperdb.geoData\n",
    "#for record in geoData.find():\n",
    "#    print record\n",
    "print geoData.count()\n",
    "print len(geoData.distinct(\"latitude\"))\n",
    "for lat in geoData.distinct(\"latitude\"):\n",
    "    print geoData.count({\"latitude\":lat})"
   ]
  },
  {
   "cell_type": "code",
   "execution_count": null,
   "metadata": {
    "collapsed": true
   },
   "outputs": [],
   "source": []
  }
 ],
 "metadata": {
  "kernelspec": {
   "display_name": "Python 2",
   "language": "python",
   "name": "python2"
  },
  "language_info": {
   "codemirror_mode": {
    "name": "ipython",
    "version": 2
   },
   "file_extension": ".py",
   "mimetype": "text/x-python",
   "name": "python",
   "nbconvert_exporter": "python",
   "pygments_lexer": "ipython2",
   "version": "2.7.10"
  }
 },
 "nbformat": 4,
 "nbformat_minor": 0
}
