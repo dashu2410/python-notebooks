{
 "cells": [
  {
   "cell_type": "code",
   "execution_count": 25,
   "metadata": {
    "collapsed": true
   },
   "outputs": [],
   "source": [
    "from selenium import webdriver\n",
    "from selenium.common.exceptions import NoSuchElementException\n",
    "from selenium.webdriver.common.keys import Keys\n",
    "import os\n",
    "from selenium.webdriver.common.action_chains import ActionChains\n",
    "import time\n",
    "import re\n"
   ]
  },
  {
   "cell_type": "code",
   "execution_count": 26,
   "metadata": {
    "collapsed": true
   },
   "outputs": [],
   "source": [
    "\n",
    "def login(username , password):\n",
    "    chromeDriver = '/Users/Jai/Documents/code/python-learning/chromedriver'\n",
    "    os.environ[\"webdriver.chrome.driver\"] = chromeDriver\n",
    "    driver = webdriver.Chrome(chromeDriver)\n",
    "\n",
    "    driver.get(\"https://web.facebook.com/\")\n",
    "    assert 'Facebook' in driver.title\n",
    "    email_field = driver.find_element_by_id(\"email\")\n",
    "    pass_field = driver.find_element_by_id(\"pass\")\n",
    "\n",
    "    email_field.send_keys(username)\n",
    "    pass_field.send_keys(password)\n",
    "    pass_field.send_keys(Keys.RETURN)\n",
    "    return driver"
   ]
  },
  {
   "cell_type": "code",
   "execution_count": 27,
   "metadata": {
    "collapsed": true
   },
   "outputs": [],
   "source": [
    "def getFriendlist(target,driver):\n",
    "    driver.get(\"https://web.facebook.com/\" + target + '/friends')\n",
    "\n",
    "    for i in range(30):\n",
    "        for i in range(100):\n",
    "            ActionChains(driver).key_down(Keys.DOWN).perform()\n",
    "        time.sleep(0.1)\n",
    "\n",
    "    friendsOfTarget = driver.find_elements_by_class_name('fwb')\n",
    "    print friendsOfTarget[:50]\n",
    "\n",
    "    friends = list()\n",
    "    for element in friendsOfTarget:\n",
    "        try:\n",
    "            friend_link = element.find_element_by_tag_name('a')\n",
    "            if friend_link and friend_link.get_attribute('href') and re.match(r'https?\\:\\/\\/www\\.facebook\\.com\\/[^?]*\\?', friend_link.get_attribute('href')):\n",
    "                friends.append(friend_link.get_attribute('href'))\n",
    "                print friend_link.get_attribute('href')\n",
    "        except NoSuchElementException:\n",
    "            continue\n",
    "    driver.close()\n",
    "    return friends"
   ]
  },
  {
   "cell_type": "code",
   "execution_count": 81,
   "metadata": {
    "collapsed": true
   },
   "outputs": [],
   "source": [
    "driver = login('ashu1024', '$Ravias01')"
   ]
  },
  {
   "cell_type": "code",
   "execution_count": 29,
   "metadata": {
    "collapsed": false
   },
   "outputs": [],
   "source": [
    "def hasFriendListVisible(target,driver):\n",
    "    driver.get(\"https://web.facebook.com/\" + target + '/friends')\n",
    "    types_visible = driver.find_elements_by_class_name('_3c_')\n",
    "    for type in types_visible:\n",
    "        if type.text=='All Friends':\n",
    "            return True\n",
    "    return False"
   ]
  },
  {
   "cell_type": "code",
   "execution_count": 30,
   "metadata": {
    "collapsed": false
   },
   "outputs": [
    {
     "name": "stdout",
     "output_type": "stream",
     "text": [
      "False\n"
     ]
    }
   ],
   "source": [
    "print hasFriendListVisible('sahilarora946',driver)"
   ]
  },
  {
   "cell_type": "code",
   "execution_count": 9,
   "metadata": {
    "collapsed": false
   },
   "outputs": [
    {
     "data": {
      "text/plain": [
       "'\\n1 - perform login by passing the dummy profile username and \\n    password as parameters\\n2- check if the particular target has his friend list in visible\\n    mode or not.\\n    \\n    a) if visible, scrape the list directly through getFriendList\\n        function\\n    b) else, \\n        1- simulate click on cover photo - class coverPhoto\\n        2- simulate click on likes button - class \\'_2x4v\\'\\n        3- simulate as many clicks on \\'see more\\' on the popup\\n            as possible - xpath  \\n            //*[@id=\"reaction_profile_pager1\"]/div/a\\n        3- scrape the ID\\'s from the generated pop-up box - \\n            class \\'_5i_q\\'\\n        4- repeat for profile photo - class profilePic\\n'"
      ]
     },
     "execution_count": 9,
     "metadata": {},
     "output_type": "execute_result"
    }
   ],
   "source": [
    "#flow of login goes in the following manner:\n",
    "'''\n",
    "1 - perform login by passing the dummy profile username and \n",
    "    password as parameters\n",
    "2- check if the particular target has his friend list in visible\n",
    "    mode or not.\n",
    "    \n",
    "    a) if visible, scrape the list directly through getFriendList\n",
    "        function\n",
    "    b) else, \n",
    "        1- simulate click on cover photo - class coverPhoto\n",
    "        2- simulate click on likes button - class '_2x4v'\n",
    "        3- simulate as many clicks on 'see more' on the popup\n",
    "            as possible - xpath  \n",
    "            //*[@id=\"reaction_profile_pager1\"]/div/a\n",
    "        3- scrape the ID's from the generated pop-up box - \n",
    "            class '_5i_q'\n",
    "        4- repeat for profile photo - class profilePic\n",
    "'''"
   ]
  },
  {
   "cell_type": "code",
   "execution_count": 100,
   "metadata": {
    "collapsed": false
   },
   "outputs": [
    {
     "name": "stdout",
     "output_type": "stream",
     "text": [
      "links found:\n",
      "https://www.facebook.com/ufi/reaction/profile/browser/?ft_ent_identifier=1002016069825958&av=1021344484\n",
      "https://www.facebook.com/ufi/reaction/profile/browser/?ft_ent_identifier=875389145821985&av=1021344484\n",
      "https://www.facebook.com/ufi/reaction/profile/browser/?ft_ent_identifier=620651211295781&av=1021344484\n",
      "https://www.facebook.com/ufi/reaction/profile/browser/?ft_ent_identifier=833512766676290&av=1021344484\n",
      "https://www.facebook.com/ufi/reaction/profile/browser/?ft_ent_identifier=876824415678458&av=1021344484\n",
      "https://www.facebook.com/ufi/reaction/profile/browser/?ft_ent_identifier=900159650011601&av=1021344484\n",
      "https://www.facebook.com/ufi/reaction/profile/browser/?ft_ent_identifier=1226449750715921&av=1021344484\n",
      "https://www.facebook.com/ufi/reaction/profile/browser/?ft_ent_identifier=948038038557095&av=1021344484\n",
      "https://www.facebook.com/ufi/reaction/profile/browser/?ft_ent_identifier=833530873341146&av=1021344484\n",
      "https://www.facebook.com/ufi/reaction/profile/browser/?ft_ent_identifier=1109436222417275&av=1021344484\n",
      "https://www.facebook.com/ufi/reaction/profile/browser/?ft_ent_identifier=1172593432768220&av=1021344484\n",
      "https://www.facebook.com/ufi/reaction/profile/browser/?ft_ent_identifier=820804517947115&av=1021344484\n",
      "https://www.facebook.com/ufi/reaction/profile/browser/?ft_ent_identifier=1017567771604121&av=1021344484\n",
      "https://www.facebook.com/ufi/reaction/profile/browser/?ft_ent_identifier=783401848354049&av=1021344484\n",
      "https://www.facebook.com/ufi/reaction/profile/browser/?ft_ent_identifier=865392260155007&av=1021344484\n",
      "https://www.facebook.com/ufi/reaction/profile/browser/?ft_ent_identifier=775102999183934&av=1021344484\n",
      "https://www.facebook.com/ufi/reaction/profile/browser/?ft_ent_identifier=972733276087571&av=1021344484\n",
      "exploring https://www.facebook.com/ufi/reaction/profile/browser/?ft_ent_identifier=1002016069825958&av=1021344484\n",
      "exploring https://www.facebook.com/ufi/reaction/profile/browser/?ft_ent_identifier=875389145821985&av=1021344484\n",
      "exploring https://www.facebook.com/ufi/reaction/profile/browser/?ft_ent_identifier=620651211295781&av=1021344484\n",
      "exploring https://www.facebook.com/ufi/reaction/profile/browser/?ft_ent_identifier=833512766676290&av=1021344484\n",
      "exploring https://www.facebook.com/ufi/reaction/profile/browser/?ft_ent_identifier=876824415678458&av=1021344484\n",
      "exploring https://www.facebook.com/ufi/reaction/profile/browser/?ft_ent_identifier=900159650011601&av=1021344484\n",
      "exploring https://www.facebook.com/ufi/reaction/profile/browser/?ft_ent_identifier=1226449750715921&av=1021344484\n",
      "exploring https://www.facebook.com/ufi/reaction/profile/browser/?ft_ent_identifier=948038038557095&av=1021344484\n",
      "exploring https://www.facebook.com/ufi/reaction/profile/browser/?ft_ent_identifier=833530873341146&av=1021344484\n",
      "exploring https://www.facebook.com/ufi/reaction/profile/browser/?ft_ent_identifier=1109436222417275&av=1021344484\n",
      "exploring https://www.facebook.com/ufi/reaction/profile/browser/?ft_ent_identifier=1172593432768220&av=1021344484\n",
      "exploring https://www.facebook.com/ufi/reaction/profile/browser/?ft_ent_identifier=820804517947115&av=1021344484\n",
      "exploring https://www.facebook.com/ufi/reaction/profile/browser/?ft_ent_identifier=1017567771604121&av=1021344484\n",
      "exploring https://www.facebook.com/ufi/reaction/profile/browser/?ft_ent_identifier=783401848354049&av=1021344484\n",
      "exploring https://www.facebook.com/ufi/reaction/profile/browser/?ft_ent_identifier=865392260155007&av=1021344484\n",
      "exploring https://www.facebook.com/ufi/reaction/profile/browser/?ft_ent_identifier=775102999183934&av=1021344484\n",
      "exploring https://www.facebook.com/ufi/reaction/profile/browser/?ft_ent_identifier=972733276087571&av=1021344484\n"
     ]
    }
   ],
   "source": [
    "def getLikesFromPosts(target,driver):\n",
    "    #open the persons profile\n",
    "    driver.get(\"https://web.facebook.com/\" + target)\n",
    "    #TODO: replace with code that ensures we are at the bottom of the page\n",
    "    for i in range(2):\n",
    "        for i in range(100):\n",
    "            ActionChains(driver).key_down(Keys.DOWN).perform()\n",
    "            time.sleep(0.1)\n",
    "    coverPhotoObj = driver.find_element_by_xpath('//*[@id=\"fbCoverImageContainer\"]')\n",
    "    coverPhotoObj.click()\n",
    "    time.sleep(5)\n",
    "    friends = set()\n",
    "    reactionPageURLs = set()\n",
    "    CoverObjectReactionElements=set()\n",
    "    allCoverLinks = driver.find_elements_by_tag_name('a')\n",
    "    for x in allCoverLinks:\n",
    "        if '/ufi/reaction/profile/browser/'in str(x.get_attribute('href')):\n",
    "            CoverObjectReactionElements.add(x.get_attribute('href'))\n",
    "    reactionPageURLs = reactionPageURLs.union(CoverObjectReactionElements)\n",
    "    \n",
    "    closeButtonObj= driver.find_element_by_xpath('//*[@id=\"photos_snowlift\"]/div[2]/div/a')\n",
    "    closeButtonObj.click()\n",
    "    time.sleep(1)\n",
    "    DPObj = driver.find_element_by_class_name('profilePic')\n",
    "    DPObj.click()\n",
    "    time.sleep(5)\n",
    "    DPReactionElements=set()\n",
    "    allDPLinks = driver.find_elements_by_tag_name('a')\n",
    "    for x in allDPLinks:\n",
    "        if '/ufi/reaction/profile/browser/'in str(x.get_attribute('href')):\n",
    "            DPReactionElements.add(x.get_attribute('href'))\n",
    "    reactionPageURLs = reactionPageURLs.union(DPReactionElements)\n",
    "    \n",
    "    print \"links found:\"\n",
    "    for URL in reactionPageURLs:\n",
    "        print URL\n",
    "    for element in reactionPageURLs:\n",
    "        link = element\n",
    "        print \"exploring \" + str(link)\n",
    "        friendsFoundFromLink = getLikesFromReactionPage(link,driver)\n",
    "        friends = friends.union(friendsFoundFromLink)\n",
    "    return friends\n",
    "    \n",
    "def getLikesFromReactionPage(likelistURL, driver):\n",
    "    driver.get(likelistURL)\n",
    "    more = True\n",
    "    while more:\n",
    "        try:\n",
    "            time.sleep(5)\n",
    "            seemorebutton= driver.find_element_by_xpath('//*[@id=\"reaction_profile_pager1\"]/div')\n",
    "            seemorebutton.click()\n",
    "        except NoSuchElementException:\n",
    "            more=False\n",
    "    friendlinks = driver.find_elements_by_xpath('//*[@id=\"reaction_profile_browser1\"]/li/div/div/div/div[2]/div[2]/div/a')\n",
    "    result = set()\n",
    "    for linkelement in friendlinks:\n",
    "        result.add(linkelement.get_attribute(\"href\"))\n",
    "    return result\n",
    "    \n",
    "partial_likes = getLikesFromPosts(\"anjana.george.5\",driver)\n",
    "    "
   ]
  },
  {
   "cell_type": "code",
   "execution_count": 101,
   "metadata": {
    "collapsed": false
   },
   "outputs": [
    {
     "name": "stdout",
     "output_type": "stream",
     "text": [
      "480\n"
     ]
    }
   ],
   "source": [
    "print len(partial_likes)"
   ]
  },
  {
   "cell_type": "code",
   "execution_count": 66,
   "metadata": {
    "collapsed": false
   },
   "outputs": [],
   "source": [
    "for link in partial_likes:\n",
    "    if 'https://web.facebook.com/isha.nain.7?fref=pb&hc_location=profile_browser' in link:\n",
    "        print \"found!\""
   ]
  },
  {
   "cell_type": "code",
   "execution_count": null,
   "metadata": {
    "collapsed": true
   },
   "outputs": [],
   "source": []
  }
 ],
 "metadata": {
  "kernelspec": {
   "display_name": "Python 2",
   "language": "python",
   "name": "python2"
  },
  "language_info": {
   "codemirror_mode": {
    "name": "ipython",
    "version": 2
   },
   "file_extension": ".py",
   "mimetype": "text/x-python",
   "name": "python",
   "nbconvert_exporter": "python",
   "pygments_lexer": "ipython2",
   "version": "2.7.10"
  }
 },
 "nbformat": 4,
 "nbformat_minor": 0
}
