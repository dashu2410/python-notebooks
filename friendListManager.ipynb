{
 "cells": [
  {
   "cell_type": "code",
   "execution_count": 2,
   "metadata": {
    "collapsed": false
   },
   "outputs": [],
   "source": [
    "from selenium import webdriver\n",
    "from selenium.common.exceptions import NoSuchElementException\n",
    "from selenium.webdriver.common.keys import Keys\n",
    "import os\n",
    "from selenium.webdriver.common.action_chains import ActionChains\n",
    "import time\n",
    "import re\n",
    "import getpass\n",
    "import json\n",
    "from graph_tool.all import *\n",
    "\n",
    "def login(username=None,password=None):\n",
    "    if username == None:\n",
    "        username = raw_input('username: ')\n",
    "    if password == None:\n",
    "        password = getpass.getpass()\n",
    "    chromeDriver = '/Users/Jai/Downloads/chromedriver'\n",
    "    chrome_options = webdriver.ChromeOptions()\n",
    "    prefs = {\"profile.managed_default_content_settings.notifications\": 2}\n",
    "    chrome_options.add_experimental_option(\"prefs\", prefs)\n",
    "\n",
    "    os.environ[\"webdriver.chrome.driver\"] = chromeDriver\n",
    "    driver = webdriver.Chrome(chromeDriver, chrome_options=chrome_options)\n",
    "\n",
    "    driver.get(\"https://web.facebook.com/\")\n",
    "    assert 'Facebook' in driver.title\n",
    "    email_field = driver.find_element_by_id(\"email\")\n",
    "    pass_field = driver.find_element_by_id(\"pass\")\n",
    "\n",
    "    email_field.send_keys(username)\n",
    "    pass_field.send_keys(password)\n",
    "    pass_field.send_keys(Keys.RETURN)\n",
    "    return driver\n",
    "\n",
    "def getLikesFromPosts(target, driver):\n",
    "    # open the persons profile\n",
    "    pageURL = str()\n",
    "    if re.match(r'https?\\:\\/\\/www\\.facebook\\.com\\/[^?]*\\?',target):\n",
    "        pageURL = target\n",
    "    else:\n",
    "        pageURL = \"https://web.facebook.com/\" + target\n",
    "    driver.get(pageURL)\n",
    "    # TODO: replace with code that ensures we are at the bottom of the page\n",
    "    for i in range(2):\n",
    "        for i in range(2):\n",
    "            ActionChains(driver).key_down(Keys.DOWN).perform()\n",
    "        time.sleep(0.1)\n",
    "    try:\n",
    "        coverPhotoObj = driver.find_element_by_xpath('//*[@id=\"fbCoverImageContainer\"]')\n",
    "        coverPhotoObj.click()\n",
    "    except NoSuchElementException:\n",
    "        print \"Cover photo not found\"\n",
    "    time.sleep(5)\n",
    "    friends = set()\n",
    "    reactionPageURLs = set()\n",
    "    CoverObjectReactionElements = set()\n",
    "    allCoverLinks = driver.find_elements_by_tag_name('a')\n",
    "    for x in allCoverLinks:\n",
    "        if '/ufi/reaction/profile/browser/' in str(x.get_attribute('href')):\n",
    "            CoverObjectReactionElements.add(x.get_attribute('href'))\n",
    "    reactionPageURLs = reactionPageURLs.union(CoverObjectReactionElements)\n",
    "    try:\n",
    "        closeButtonObj = driver.find_element_by_xpath('//*[@id=\"photos_snowlift\"]/div[2]/div/a')\n",
    "        closeButtonObj.click()\n",
    "    except NoSuchElementException:\n",
    "        print \"DP not found\"\n",
    "    time.sleep(1)\n",
    "    DPObj = driver.find_element_by_class_name('profilePic')\n",
    "    DPObj.click()\n",
    "    time.sleep(5)\n",
    "    DPReactionElements = set()\n",
    "    allDPLinks = driver.find_elements_by_tag_name('a')\n",
    "    for x in allDPLinks:\n",
    "        if '/ufi/reaction/profile/browser/' in str(x.get_attribute('href')):\n",
    "            DPReactionElements.add(x.get_attribute('href'))\n",
    "    reactionPageURLs = reactionPageURLs.union(DPReactionElements)\n",
    "\n",
    "    # print \"links found:\"\n",
    "    # for URL in reactionPageURLs:\n",
    "    #     print URL\n",
    "    for element in reactionPageURLs:\n",
    "        link = element\n",
    "        print \"exploring \" + str(link)\n",
    "        friendsFoundFromLink = getLikesFromReactionPage(link, driver)\n",
    "        friends = friends.union(friendsFoundFromLink)\n",
    "    return friends\n",
    "\n",
    "\n",
    "def getLikesFromReactionPage(likelistURL, driver):\n",
    "    driver.get(likelistURL)\n",
    "    more = True\n",
    "    while more:\n",
    "        try:\n",
    "            time.sleep(5)\n",
    "            seemorebutton = driver.find_element_by_xpath('//*[@id=\"reaction_profile_pager1\"]/div')\n",
    "            seemorebutton.click()\n",
    "        except NoSuchElementException:\n",
    "            more = False\n",
    "    friendlinks = driver.find_elements_by_xpath(\n",
    "        '//*[@id=\"reaction_profile_browser1\"]/li/div/div/div/div[2]/div[2]/div/a')\n",
    "    result = set()\n",
    "    for linkelement in friendlinks:\n",
    "        # result.add(linkelement.get_attribute(\"href\"))\n",
    "        link = linkelement.get_attribute(\"href\")\n",
    "        name = linkelement.text\n",
    "        idsearch = re.search(r'(https?\\:\\/\\/(www\\.)?(web\\.)?facebook\\.com\\/)([^?]*)\\?',link)\n",
    "        if idsearch:\n",
    "            #print \"adding \" + idsearch.group(4)\n",
    "            result.add((idsearch.group(4),name))\n",
    "    return result\n",
    "\n",
    "def hasFriendListVisible(target, driver):\n",
    "    driver.get(\"https://web.facebook.com/\" + target + '/friends')\n",
    "    time.sleep(2)\n",
    "    types_visible = driver.find_elements_by_class_name('_3sz')\n",
    "    for friendType in types_visible:\n",
    "        if friendType.text == 'All Friends':\n",
    "            return True\n",
    "    return False\n",
    "\n",
    "def getFriendListFromFriendsPage(target, driver):\n",
    "    driver.get(\"https://web.facebook.com/\" + target + '/friends')\n",
    "    lastHeight = driver.execute_script(\"return document.body.scrollHeight\")\n",
    "    while True:\n",
    "        driver.execute_script(\"window.scrollTo(0, document.body.scrollHeight);\")\n",
    "        time.sleep(2)\n",
    "        newHeight = driver.execute_script(\"return document.body.scrollHeight\")\n",
    "        if newHeight == lastHeight:\n",
    "            break\n",
    "        lastHeight = newHeight\n",
    "    friendsOfTarget = driver.find_elements_by_class_name('fwb')\n",
    "    #print friendsOfTarget[:50]\n",
    "\n",
    "    friends = list()\n",
    "    friends_names = list()\n",
    "    for element in friendsOfTarget:\n",
    "        try:\n",
    "            friend_link = element.find_element_by_tag_name('a')\n",
    "            if friend_link and friend_link.get_attribute('href') and re.match(\n",
    "                r'(https?\\:\\/\\/(www\\.)?(web\\.)?facebook\\.com\\/)([^?]*)\\?', friend_link.get_attribute('href')):\n",
    "                friends.append(friend_link.get_attribute('href'))\n",
    "                friends_names.append(friend_link.text)\n",
    "                #print friend_link.get_attribute('href')\n",
    "        except NoSuchElementException:\n",
    "            continue\n",
    "    result = set()\n",
    "    zipped = zip(friends,friends_names)\n",
    "    for (link,name) in zipped:\n",
    "        idsearch = re.search(r'(https?\\:\\/\\/(www\\.)?(web\\.)?facebook\\.com\\/)([^?]*)\\?',link)\n",
    "        if idsearch:\n",
    "            newelement= (idsearch.group(4),name)\n",
    "            result.add(newelement)\n",
    "            #print newelement\n",
    "    return result\n",
    "\n",
    "def getFriendList(target,driver):\n",
    "    if target =='profile.php':\n",
    "        return set()\n",
    "    if hasFriendListVisible(target,driver):\n",
    "        return getFriendListFromFriendsPage(target,driver)\n",
    "    else:\n",
    "        return getLikesFromPosts(target,driver)\n",
    "\n",
    "def genFriendGraph(target, friendList):\n",
    "    '''\n",
    "    To generate the graph for a given root node and his/her friend list\n",
    "    :param root: the root node as (fb-id , name)\n",
    "    :param friendList: a list of tuples of (link,name)\n",
    "    :return: the graph object\n",
    "    '''\n",
    "    g = Graph()\n",
    "    root = g.add_vertex()\n",
    "    g.gp.idtovert = g.new_gp(\"python::object\")\n",
    "    g.gp.idtovert = dict()\n",
    "    g.gp.idtovert[target[0]]=0\n",
    "    g.vp.vertexText = g.new_vp(\"string\")\n",
    "    g.vp.vertexText[root] = target[1]\n",
    "    g.vp.id = g.new_vp(\"string\")\n",
    "    for friend in friendList:\n",
    "        friendVertex = g.add_vertex()\n",
    "        g.gp.idtovert[friend[0]] = g.vertex_index[friendVertex]\n",
    "        g.vp.vertexText[friendVertex] = friend[1]\n",
    "        #print \"making node with id \" + friend[0]\n",
    "        g.vp.id[friendVertex] = friend[0]\n",
    "        if not g.edge(root,friendVertex):\n",
    "            g.add_edge(root,friendVertex)\n",
    "    return g\n",
    "\n",
    "\n",
    "def addNewFriends(g,target, friends):\n",
    "    '''\n",
    "    :param g: the graph Im working with right now\n",
    "    :param target: the person I'm adding to the graph - (fb-id, name)\n",
    "    :param friends: A list of (link,name) tuples of the friends of the person in consideration\n",
    "    :return: the modified graph\n",
    "    '''\n",
    "    if not isinstance(g, Graph ):\n",
    "        return False\n",
    "    if target[0] in g.gp.idtovert:\n",
    "        targetVertex = g.vertex(g.gp.idtovert[target[0]])\n",
    "    else:\n",
    "        targetVertex = g.add_vertex()\n",
    "    g.gp.idtovert[target[0]]=g.vertex_index[targetVertex]\n",
    "    g.vp.vertexText[targetVertex] = target[1]\n",
    "    for friend in friends:\n",
    "        if friend[0] not in g.gp.idtovert:\n",
    "            friendVertex = g.add_vertex()\n",
    "        else:\n",
    "            friendVertex = g.vertex(g.gp.idtovert[friend[0]])\n",
    "        g.gp.idtovert[friend[0]] = g.vertex_index[friendVertex]\n",
    "        g.vp.id[friendVertex] = friend[0]\n",
    "        g.vp.vertexText[friendVertex] = friend[1]\n",
    "        #print \"adding edge to \" + friend[1]\n",
    "        if not g.edge(targetVertex,friendVertex):\n",
    "            g.add_edge(targetVertex,friendVertex)\n",
    "    return g\n",
    "\n",
    "def openInteractiveWindow(g,driver):\n",
    "    if not isinstance(g, Graph):\n",
    "        return False\n",
    "    graph_draw(g, vertex_text = g.vp.vertexText, vertex_size = 10, vertex_font_size = 10, inline=True)\n",
    "    #get the id of the guy to explore now\n",
    "    print \" Input as follows \\n 1 for importing a new person into the graph \\n 2 for exploring an existing person in the graph \\n 3 for exit\"\n",
    "    choice = input()\n",
    "    if choice == 1:\n",
    "        newid = raw_input(\"enter the ID of the person to explore\")\n",
    "        newname = raw_input(\"enter the name of the person to explore\")\n",
    "        g = addNewFriends(g,(newid,newname), getLikesFromPosts(newid,driver))\n",
    "        openInteractiveWindow(g,driver)\n",
    "    elif choice ==2:\n",
    "        explorename = raw_input(\"enter the name of the person you want to explore\")\n",
    "        exploreids = [g.vp.id[x] for x in g.vertices() if g.vp.vertexText[x] == explorename]\n",
    "        print \"choose from one of the following:\"\n",
    "        print exploreids\n",
    "        exploreid = raw_input()\n",
    "        g = addNewFriends(g,(exploreid,explorename),getLikesFromPosts(exploreid, driver))\n",
    "        openInteractiveWindow(g,driver)\n",
    "    else:\n",
    "        return True\n",
    "    \n",
    "def genGraphMultiUsers(idlist,driver):\n",
    "    g = Graph()\n",
    "    firstlikes = getLikesFromPosts(idlist[0],driver)\n",
    "    firstids = set()\n",
    "    for like in firstlikes:\n",
    "        idsearch = re.search(r'(https?\\:\\/\\/www\\.facebook\\.com\\/)([^?]*)\\?',str(like[0]))\n",
    "        if idsearch:\n",
    "            firstids.add( (idsearch.group(2),like[1]))\n",
    "    g = genFriendGraph(idlist,firstids)\n",
    "    for user in idlist:\n",
    "        if user == idlist[0]:\n",
    "            continue\n",
    "        newLikes = getLikesFromPosts(user,driver)\n",
    "        newids = set()\n",
    "        for like in newLikes:\n",
    "            idsearch = re.search(r'(https?\\:\\/\\/(www\\.)?(web\\.)?facebook\\.com\\/)([^?]*)\\?\\?',str(like[0]))\n",
    "            if idsearch:\n",
    "                newids.add( (idsearch.group(4),like[1]))\n",
    "        g = addNewFriends(g,user,newids,isfriend=False)\n",
    "    return g\n",
    "\n",
    "\n",
    "def genCompleteGraphSerial(target, g = None, driver = None,targetFriendList=None):\n",
    "    if driver ==None:\n",
    "        driver = login()\n",
    "    if targetFriendList==None:\n",
    "        targetFriendList= getFriendList(target[0], driver)\n",
    "    if g == None:\n",
    "        g = genFriendGraph(target,targetFriendList)\n",
    "    count =0\n",
    "    for friend in targetFriendList:\n",
    "        print \"adding friends of \" + friend[1]\n",
    "        if (friend[0] not in g.gp.idtovert) or( g.vertex(g.gp.idtovert[friend[0]]).out_degree()<=2):\n",
    "            try:\n",
    "                g = addNewFriends(g,friend,getFriendList(friend[0],driver))\n",
    "            except (KeyboardInterrupt, SystemExit):\n",
    "                raise\n",
    "            except:\n",
    "                continue\n",
    "        else:\n",
    "            print friend[1] + \" already explored! \"\n",
    "        count +=1\n",
    "        print str(count) + \" of \" + str(len(targetFriendList)) + \" explored till now\"\n",
    "    return g\n",
    "    \n",
    "    "
   ]
  },
  {
   "cell_type": "code",
   "execution_count": null,
   "metadata": {
    "collapsed": false
   },
   "outputs": [],
   "source": [
    "driver = login()\n",
    "#vivekslikes = getLikesFromPosts('vivekdvd', driver)\n",
    "#socialGraph.remove_vertex(socialGraph.vertex(socialGraph.gp.idtovert['niks2494']))\n",
    "ashuCompleteGraph = genCompleteGraphSerial(('ashu1024','Ashutosh Dwivedi'),socialGraph,driver,targetFriendList=afl)"
   ]
  },
  {
   "cell_type": "code",
   "execution_count": null,
   "metadata": {
    "collapsed": false
   },
   "outputs": [],
   "source": [
    "socialGraph = genFriendGraph(('ashu1024','Ashutosh Dwivedi'),afl)"
   ]
  },
  {
   "cell_type": "code",
   "execution_count": null,
   "metadata": {
    "collapsed": false,
    "scrolled": false
   },
   "outputs": [],
   "source": [
    "driver = login()\n",
    "afl = getFriendList('ashu1024',driver)"
   ]
  },
  {
   "cell_type": "code",
   "execution_count": null,
   "metadata": {
    "collapsed": false
   },
   "outputs": [],
   "source": [
    "graph_draw(socialGraph, pos = sfdp_layout(socialGraph,C=100))"
   ]
  },
  {
   "cell_type": "code",
   "execution_count": null,
   "metadata": {
    "collapsed": false
   },
   "outputs": [],
   "source": [
    "from multiprocessing import Process, Manager,Pool, TimeoutError\n",
    "import getpass\n",
    "noOfThreads = 5\n",
    "target = 'ashu1024'\n",
    "username = raw_input('username: ')\n",
    "password = getpass.getpass()\n",
    "driver = login(username,password)\n",
    "targetFriendList= getLikesFromPosts(target, driver)\n",
    "    "
   ]
  },
  {
   "cell_type": "code",
   "execution_count": null,
   "metadata": {
    "collapsed": false
   },
   "outputs": [],
   "source": [
    "#distributing the friend list\n",
    "targetFriendList = list(targetFriendList)\n",
    "portions = []\n",
    "each = len(targetFriendList)/noOfThreads\n",
    "curr = 0\n",
    "for i in range(noOfThreads-1):\n",
    "    portions.append(targetFriendList[curr:curr+each])\n",
    "    curr +=each\n",
    "portions.append(targetFriendList[curr:])"
   ]
  },
  {
   "cell_type": "code",
   "execution_count": null,
   "metadata": {
    "collapsed": false
   },
   "outputs": [],
   "source": [
    "#adding friends of all the friends of the target onto the totalfriends map\n",
    "manager = Manager()\n",
    "pool = Pool(processes=noOfThreads)\n",
    "friendshipmap = pool.map(getMapForMultipleTargets, targetFriendList,1)\n",
    "totalmap = set()\n",
    "for fm in friendshipmap:\n",
    "    totalmap = totalmap.union(fm)"
   ]
  },
  {
   "cell_type": "code",
   "execution_count": null,
   "metadata": {
    "collapsed": false
   },
   "outputs": [],
   "source": [
    "g = Graph()\n",
    "    g.add_edge_list(totalmap)"
   ]
  },
  {
   "cell_type": "code",
   "execution_count": null,
   "metadata": {
    "collapsed": false
   },
   "outputs": [],
   "source": [
    "print socialGraph.num_edges()"
   ]
  },
  {
   "cell_type": "code",
   "execution_count": null,
   "metadata": {
    "collapsed": false
   },
   "outputs": [],
   "source": [
    "#driver= login()\n",
    "#print hasFriendListVisible('ashu1024',driver)\n",
    "getFriendList('ashu1024',driver)"
   ]
  },
  {
   "cell_type": "code",
   "execution_count": null,
   "metadata": {
    "collapsed": false
   },
   "outputs": [],
   "source": [
    "pos = sfdp_layout(socialGraph,gamma = 2.5)"
   ]
  },
  {
   "cell_type": "code",
   "execution_count": null,
   "metadata": {
    "collapsed": false
   },
   "outputs": [],
   "source": [
    "graph_draw(socialGraph,pos)"
   ]
  },
  {
   "cell_type": "code",
   "execution_count": null,
   "metadata": {
    "collapsed": true
   },
   "outputs": [],
   "source": [
    "socialGraph.save('/Users/Jai/Documents/code/python-learning/socialGraph.xml')"
   ]
  },
  {
   "cell_type": "code",
   "execution_count": null,
   "metadata": {
    "collapsed": false
   },
   "outputs": [],
   "source": [
    "thirddeg = len([x for x in socialGraph.vertices() if x.in_degree()+x.out_degree()<2])\n",
    "print thirddeg\n",
    "print socialGraph.num_vertices()"
   ]
  },
  {
   "cell_type": "code",
   "execution_count": null,
   "metadata": {
    "collapsed": false
   },
   "outputs": [],
   "source": [
    "#socialGraph = Graph()\n",
    "#socialGraph.load('/Users/Jai/Documents/code/python-learning/socialGraph.xml')\n",
    "\n",
    "#for e in socialGraph.edges():\n",
    "#    if socialGraph.vertex_index[e.source()]==0 or socialGraph.vertex_index[e.target()]==0:\n",
    "#        socialGraph.remove_edge(e)\n",
    "#socialGraph.remove_vertex(0)\n",
    "\n",
    "\n",
    "socialGraph = Graph()\n",
    "socialGraph.load('/Users/Jai/Documents/code/python-learning/socialGraph.xml')\n",
    "\n",
    "vfilter = socialGraph.new_vp(\"bool\")\n",
    "socialGraph.clear_filters()\n",
    "#efilter = socialGraph.new_ep(\"bool\")\n",
    "#for e in socialGraph.vertex(0).in_edges():\n",
    "#    efilter[e] = True\n",
    "#for e in socialGraph.vertex(0).out_edges():\n",
    "#    efilter[e] = True\n",
    "#socialGraph.set_edge_filter(efilter)\n",
    "for v in socialGraph.vertices():\n",
    "    vfilter[v] = bool(v.in_degree()+v.out_degree()>3)\n",
    "socialGraph.set_vertex_filter(vfilter)\n"
   ]
  },
  {
   "cell_type": "code",
   "execution_count": null,
   "metadata": {
    "collapsed": false
   },
   "outputs": [],
   "source": [
    "#socialGraph.remove_vertex(socialGraph.vertex(socialGraph.gp.idtovert['ashu1024']))\n",
    "'''\n",
    "for e in socialGraph.edges():\n",
    "    if socialGraph.vertex_index[e.source()]==0 or socialGraph.vertex_index[e.target()]==0:\n",
    "        socialGraph.remove_edge(e)\n",
    "socialGraph.remove_vertex(0)\n",
    "'''\n",
    "socialGraph = Graph()\n",
    "socialGraph.load('/Users/Jai/Documents/code/python-learning/socialGraph.xml')\n",
    "count=0\n",
    "for e in socialGraph.vertex(0).out_edges():\n",
    "    socialGraph.remove_edge(e)\n",
    "    count+=1\n",
    "for e in socialGraph.vertex(913).in_edges():\n",
    "    socialGraph.remove_edge(e)\n",
    "    count+=1\n",
    "print count\n",
    "#graph_draw(socialGraph)"
   ]
  },
  {
   "cell_type": "code",
   "execution_count": null,
   "metadata": {
    "collapsed": false
   },
   "outputs": [],
   "source": [
    "#socialGraph.clear_filters()\n",
    "nonexist=0\n",
    "mismatch=0\n",
    "print socialGraph.num_vertices()\n",
    "for id,vert in socialGraph.gp.idtovert.items():\n",
    "    try:\n",
    "        if socialGraph.vp.id[vert]!= id:\n",
    "            mismatch +=1\n",
    "    except:\n",
    "        nonexist +=1\n",
    "print (nonexist,mismatch)"
   ]
  },
  {
   "cell_type": "code",
   "execution_count": null,
   "metadata": {
    "collapsed": false
   },
   "outputs": [],
   "source": [
    "socialGraph.clear_filters()\n",
    "for v in socialGraph.vertex(913).in_edges():\n",
    "    socialGraph.remove_edge(v)"
   ]
  },
  {
   "cell_type": "code",
   "execution_count": null,
   "metadata": {
    "collapsed": true
   },
   "outputs": [],
   "source": [
    "socialGraph = Graph()\n",
    "socialGraph.load('/Users/Jai/Documents/code/python-learning/socialGraph.xml')"
   ]
  },
  {
   "cell_type": "code",
   "execution_count": null,
   "metadata": {
    "collapsed": false
   },
   "outputs": [],
   "source": [
    "graph_draw(socialGraph, vertex_text = socialGraph.vp.vertexText,vertex_font_size=5)\n",
    "\n"
   ]
  },
  {
   "cell_type": "code",
   "execution_count": null,
   "metadata": {
    "collapsed": false
   },
   "outputs": [],
   "source": [
    "undgraph= Graph(directed=False)\n",
    "undgraph.save('/Users/Jai/Documents/code/python-learning/undgraph.xml')"
   ]
  },
  {
   "cell_type": "code",
   "execution_count": null,
   "metadata": {
    "collapsed": false
   },
   "outputs": [],
   "source": [
    "from pymongo import MongoClient\n",
    "\n",
    "class friendListManager():\n",
    "    def __init__(self):\n",
    "        self.client = MongoClient()\n",
    "        self.scraperdb = self.client.scraper_db\n",
    "        self.scraperData = self.scraperdb.scraperData\n",
    "        \n",
    "    def getFriendList(self,target,driver):\n",
    "        friendListEntry = self.scraperData.find_one({\"user\":target})\n",
    "        if friendListEntry == None:\n",
    "            friendSet = getFriendList(target,driver)\n",
    "            friendList = list(friendSet)\n",
    "            entry = {\"user\" : target, \"friendList\":friendList}\n",
    "            self.scraperData.insert_one(entry)\n",
    "            return friendList\n",
    "        else:\n",
    "            return friendListEntry[\"friendList\"]\n",
    "    \n",
    "    def storeFriendList(self,root, FriendList):\n",
    "        entry = {\"user\": root , \"friendList\": FriendList}\n",
    "        self.scraperData.insert_one(entry)\n",
    "        return True\n"
   ]
  },
  {
   "cell_type": "code",
   "execution_count": null,
   "metadata": {
    "collapsed": false
   },
   "outputs": [],
   "source": [
    "flm = friendListManager()\n",
    "flist = [\"pankajtyib\",\"RAHULRAINA04\"]\n",
    "flm.storeFriendList(\"ashu1024\",flist)"
   ]
  },
  {
   "cell_type": "code",
   "execution_count": null,
   "metadata": {
    "collapsed": false
   },
   "outputs": [],
   "source": [
    "#driver = login()\n",
    "flm.getFriendList(\"ashu1024\",driver)\n",
    "flm.getFriendList(\"sahilarora946\",driver)"
   ]
  },
  {
   "cell_type": "code",
   "execution_count": null,
   "metadata": {
    "collapsed": false
   },
   "outputs": [],
   "source": [
    "flm.getFriendList(\"sahilarora946\",driver)"
   ]
  },
  {
   "cell_type": "code",
   "execution_count": null,
   "metadata": {
    "collapsed": false
   },
   "outputs": [],
   "source": [
    "print socialGraph.vp.vertexText[socialGraph.vertex(1286)]\n"
   ]
  },
  {
   "cell_type": "code",
   "execution_count": 4,
   "metadata": {
    "collapsed": false
   },
   "outputs": [
    {
     "data": {
      "image/png": "[encoded data removed]",
      "text/plain": [
       "<IPython.core.display.Image object>"
      ]
     },
     "metadata": {},
     "output_type": "display_data"
    },
    {
     "data": {
      "text/plain": [
       "<PropertyMap object with key type 'Vertex' and value type 'vector<double>', for Graph 0x10d125110, at 0x11f24dfd0>"
      ]
     },
     "execution_count": 4,
     "metadata": {},
     "output_type": "execute_result"
    }
   ],
   "source": [
    "g = Graph()\n",
    "graph_draw(g,inline=True)"
   ]
  },
  {
   "cell_type": "code",
   "execution_count": null,
   "metadata": {
    "collapsed": true
   },
   "outputs": [],
   "source": []
  }
 ],
 "metadata": {
  "kernelspec": {
   "display_name": "Python 2",
   "language": "python",
   "name": "python2"
  },
  "language_info": {
   "codemirror_mode": {
    "name": "ipython",
    "version": 2
   },
   "file_extension": ".py",
   "mimetype": "text/x-python",
   "name": "python",
   "nbconvert_exporter": "python",
   "pygments_lexer": "ipython2",
   "version": "2.7.10"
  }
 },
 "nbformat": 4,
 "nbformat_minor": 0
}
